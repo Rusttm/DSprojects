{
  "cells": [
    {
      "cell_type": "code",
      "execution_count": 6,
      "metadata": {
        "id": "u9_i1TqpZGR1"
      },
      "outputs": [
        {
          "name": "stdout",
          "output_type": "stream",
          "text": [
            "Collecting scikit-learn\n",
            "  Downloading scikit_learn-1.5.1-cp312-cp312-manylinux_2_17_x86_64.manylinux2014_x86_64.whl.metadata (12 kB)\n",
            "Requirement already satisfied: numpy>=1.19.5 in /home/user77/Desktop/DSprojects/.venv/lib/python3.12/site-packages (from scikit-learn) (2.0.1)\n",
            "Collecting scipy>=1.6.0 (from scikit-learn)\n",
            "  Using cached scipy-1.14.0-cp312-cp312-manylinux_2_17_x86_64.manylinux2014_x86_64.whl.metadata (60 kB)\n",
            "Collecting joblib>=1.2.0 (from scikit-learn)\n",
            "  Downloading joblib-1.4.2-py3-none-any.whl.metadata (5.4 kB)\n",
            "Collecting threadpoolctl>=3.1.0 (from scikit-learn)\n",
            "  Downloading threadpoolctl-3.5.0-py3-none-any.whl.metadata (13 kB)\n",
            "Downloading scikit_learn-1.5.1-cp312-cp312-manylinux_2_17_x86_64.manylinux2014_x86_64.whl (13.1 MB)\n",
            "\u001b[2K   \u001b[90m━━━━━━━━━━━━━━━━━━━━━━━━━━━━━━━━━━━━━━━━\u001b[0m \u001b[32m13.1/13.1 MB\u001b[0m \u001b[31m28.3 MB/s\u001b[0m eta \u001b[36m0:00:00\u001b[0m00:01\u001b[0m00:01\u001b[0m\n",
            "\u001b[?25hDownloading joblib-1.4.2-py3-none-any.whl (301 kB)\n",
            "\u001b[2K   \u001b[90m━━━━━━━━━━━━━━━━━━━━━━━━━━━━━━━━━━━━━━━━\u001b[0m \u001b[32m301.8/301.8 kB\u001b[0m \u001b[31m58.7 MB/s\u001b[0m eta \u001b[36m0:00:00\u001b[0m\n",
            "\u001b[?25hUsing cached scipy-1.14.0-cp312-cp312-manylinux_2_17_x86_64.manylinux2014_x86_64.whl (40.8 MB)\n",
            "Downloading threadpoolctl-3.5.0-py3-none-any.whl (18 kB)\n",
            "Installing collected packages: threadpoolctl, scipy, joblib, scikit-learn\n",
            "Successfully installed joblib-1.4.2 scikit-learn-1.5.1 scipy-1.14.0 threadpoolctl-3.5.0\n",
            "Note: you may need to restart the kernel to use updated packages.\n"
          ]
        }
      ],
      "source": [
        "#Устанавливаем pySpark\n",
        "# %pip install pyspark >> None\n",
        "%pip install scikit-learn"
      ]
    },
    {
      "cell_type": "code",
      "execution_count": 1,
      "metadata": {
        "id": "2MHgjKWVtqTs"
      },
      "outputs": [],
      "source": [
        "import pyspark\n",
        "from pyspark.sql import SparkSession\n",
        "from pyspark.sql.functions import sum, avg, when, max, month, year, first_value\n",
        "from pyspark.sql.functions import countDistinct\n",
        "from pyspark.sql import functions as F\n",
        "import pandas as pd"
      ]
    },
    {
      "cell_type": "code",
      "execution_count": 2,
      "metadata": {
        "id": "kPB5yCiyP46S"
      },
      "outputs": [],
      "source": [
        "# https://www.kaggle.com/datasets/dataceo/sales-and-customer-data?resource=download\n",
        "df1 = pd.read_csv('sales_data2.csv', sep=\",\")\n",
        "df2 = pd.read_csv('customer_data.csv', sep=\",\")\n",
        "df3 = pd.read_csv('sales_data.csv', sep=\",\")\n",
        "df = df1.merge(df2, how='left', on='customer_id')"
      ]
    },
    {
      "cell_type": "code",
      "execution_count": 7,
      "metadata": {
        "colab": {
          "base_uri": "https://localhost:8080/"
        },
        "id": "PfORnI9FXIwf",
        "outputId": "6f720dc9-cc34-4cc3-e79a-e835b3caa564"
      },
      "outputs": [],
      "source": [
        "from sklearn.preprocessing import LabelEncoder\n",
        "\n",
        "df.columns = ['order_id', 'customer_id', 'product_id', 'quantity', 'price_per_unit', 'order_date', 'region', 'gender', 'age', 'payment_method']\n",
        "\n",
        "df['total_price'] = df['quantity']*df['price_per_unit']\n",
        "df['order_id'] = df['order_id'].apply(lambda x: x[1:])\n",
        "\n",
        "df['order_id'] = df['order_id'].apply(int)\n",
        "df['total_price'] = df['total_price'].apply(int)\n",
        "\n",
        "df['customer_id'] = df['customer_id'].apply(lambda x: x[1:])\n",
        "\n",
        "df = df[['order_id', 'product_id', 'customer_id', 'order_date', 'quantity', 'price_per_unit', 'total_price', 'payment_method', 'region']]\n",
        "\n",
        "labelencoder = LabelEncoder()\n",
        "df['product_id'] = labelencoder.fit_transform(df['product_id'])\n",
        "df['order_date'] = [x[6:10]+'-'+x[3:5]+'-'+x[:2] for x in df['order_date']]"
      ]
    },
    {
      "cell_type": "code",
      "execution_count": 8,
      "metadata": {
        "id": "GnUanlgfcthu"
      },
      "outputs": [],
      "source": [
        "df.to_csv('sales_data3.csv', sep=',', index=None)\n",
        "df = pd.read_csv('sales_data3.csv', sep=\",\")"
      ]
    },
    {
      "cell_type": "code",
      "execution_count": 9,
      "metadata": {
        "colab": {
          "base_uri": "https://localhost:8080/",
          "height": 206
        },
        "id": "F5UToG_BYygc",
        "outputId": "4d10921d-8259-41f7-bda8-f5bd68746dab"
      },
      "outputs": [
        {
          "data": {
            "text/html": [
              "<div>\n",
              "<style scoped>\n",
              "    .dataframe tbody tr th:only-of-type {\n",
              "        vertical-align: middle;\n",
              "    }\n",
              "\n",
              "    .dataframe tbody tr th {\n",
              "        vertical-align: top;\n",
              "    }\n",
              "\n",
              "    .dataframe thead th {\n",
              "        text-align: right;\n",
              "    }\n",
              "</style>\n",
              "<table border=\"1\" class=\"dataframe\">\n",
              "  <thead>\n",
              "    <tr style=\"text-align: right;\">\n",
              "      <th></th>\n",
              "      <th>order_id</th>\n",
              "      <th>product_id</th>\n",
              "      <th>customer_id</th>\n",
              "      <th>order_date</th>\n",
              "      <th>quantity</th>\n",
              "      <th>price_per_unit</th>\n",
              "      <th>total_price</th>\n",
              "      <th>payment_method</th>\n",
              "      <th>region</th>\n",
              "    </tr>\n",
              "  </thead>\n",
              "  <tbody>\n",
              "    <tr>\n",
              "      <th>0</th>\n",
              "      <td>138884</td>\n",
              "      <td>1</td>\n",
              "      <td>241288</td>\n",
              "      <td>2022-08-05</td>\n",
              "      <td>5</td>\n",
              "      <td>1500.40</td>\n",
              "      <td>7502</td>\n",
              "      <td>Credit Card</td>\n",
              "      <td>Kanyon</td>\n",
              "    </tr>\n",
              "    <tr>\n",
              "      <th>1</th>\n",
              "      <td>317333</td>\n",
              "      <td>4</td>\n",
              "      <td>111565</td>\n",
              "      <td>2021-12-12</td>\n",
              "      <td>3</td>\n",
              "      <td>1800.51</td>\n",
              "      <td>5401</td>\n",
              "      <td>Debit Card</td>\n",
              "      <td>Forum Istanbul</td>\n",
              "    </tr>\n",
              "    <tr>\n",
              "      <th>2</th>\n",
              "      <td>127801</td>\n",
              "      <td>1</td>\n",
              "      <td>266599</td>\n",
              "      <td>2021-11-09</td>\n",
              "      <td>1</td>\n",
              "      <td>300.08</td>\n",
              "      <td>300</td>\n",
              "      <td>Cash</td>\n",
              "      <td>Metrocity</td>\n",
              "    </tr>\n",
              "    <tr>\n",
              "      <th>3</th>\n",
              "      <td>173702</td>\n",
              "      <td>4</td>\n",
              "      <td>988172</td>\n",
              "      <td>2021-05-16</td>\n",
              "      <td>5</td>\n",
              "      <td>3000.85</td>\n",
              "      <td>15004</td>\n",
              "      <td>Credit Card</td>\n",
              "      <td>Metropol AVM</td>\n",
              "    </tr>\n",
              "    <tr>\n",
              "      <th>4</th>\n",
              "      <td>337046</td>\n",
              "      <td>0</td>\n",
              "      <td>189076</td>\n",
              "      <td>2021-10-24</td>\n",
              "      <td>4</td>\n",
              "      <td>60.60</td>\n",
              "      <td>242</td>\n",
              "      <td>Cash</td>\n",
              "      <td>Kanyon</td>\n",
              "    </tr>\n",
              "  </tbody>\n",
              "</table>\n",
              "</div>"
            ],
            "text/plain": [
              "   order_id  product_id  customer_id  order_date  quantity  price_per_unit  \\\n",
              "0    138884           1       241288  2022-08-05         5         1500.40   \n",
              "1    317333           4       111565  2021-12-12         3         1800.51   \n",
              "2    127801           1       266599  2021-11-09         1          300.08   \n",
              "3    173702           4       988172  2021-05-16         5         3000.85   \n",
              "4    337046           0       189076  2021-10-24         4           60.60   \n",
              "\n",
              "   total_price payment_method          region  \n",
              "0         7502    Credit Card          Kanyon  \n",
              "1         5401     Debit Card  Forum Istanbul  \n",
              "2          300           Cash       Metrocity  \n",
              "3        15004    Credit Card    Metropol AVM  \n",
              "4          242           Cash          Kanyon  "
            ]
          },
          "execution_count": 9,
          "metadata": {},
          "output_type": "execute_result"
        }
      ],
      "source": [
        "df.head()"
      ]
    },
    {
      "cell_type": "code",
      "execution_count": null,
      "metadata": {
        "id": "hpGr5vcOfY0r"
      },
      "outputs": [],
      "source": []
    },
    {
      "cell_type": "code",
      "execution_count": 10,
      "metadata": {
        "colab": {
          "base_uri": "https://localhost:8080/",
          "height": 206
        },
        "id": "ZdRaYgvIfY49",
        "outputId": "fba5a735-b51e-498a-89b0-26230c4de189"
      },
      "outputs": [
        {
          "data": {
            "text/html": [
              "<div>\n",
              "<style scoped>\n",
              "    .dataframe tbody tr th:only-of-type {\n",
              "        vertical-align: middle;\n",
              "    }\n",
              "\n",
              "    .dataframe tbody tr th {\n",
              "        vertical-align: top;\n",
              "    }\n",
              "\n",
              "    .dataframe thead th {\n",
              "        text-align: right;\n",
              "    }\n",
              "</style>\n",
              "<table border=\"1\" class=\"dataframe\">\n",
              "  <thead>\n",
              "    <tr style=\"text-align: right;\">\n",
              "      <th></th>\n",
              "      <th>order_id</th>\n",
              "      <th>product_id</th>\n",
              "      <th>customer_id</th>\n",
              "      <th>order_date</th>\n",
              "      <th>quantity</th>\n",
              "      <th>price_per_unit</th>\n",
              "      <th>total_price</th>\n",
              "      <th>payment_method</th>\n",
              "      <th>region</th>\n",
              "      <th>order_month</th>\n",
              "    </tr>\n",
              "  </thead>\n",
              "  <tbody>\n",
              "    <tr>\n",
              "      <th>0</th>\n",
              "      <td>138884</td>\n",
              "      <td>1</td>\n",
              "      <td>241288</td>\n",
              "      <td>2022-08-05</td>\n",
              "      <td>5</td>\n",
              "      <td>1500.40</td>\n",
              "      <td>7502</td>\n",
              "      <td>Credit Card</td>\n",
              "      <td>Kanyon</td>\n",
              "      <td>8</td>\n",
              "    </tr>\n",
              "    <tr>\n",
              "      <th>1</th>\n",
              "      <td>317333</td>\n",
              "      <td>4</td>\n",
              "      <td>111565</td>\n",
              "      <td>2021-12-12</td>\n",
              "      <td>3</td>\n",
              "      <td>1800.51</td>\n",
              "      <td>5401</td>\n",
              "      <td>Debit Card</td>\n",
              "      <td>Forum Istanbul</td>\n",
              "      <td>12</td>\n",
              "    </tr>\n",
              "    <tr>\n",
              "      <th>2</th>\n",
              "      <td>127801</td>\n",
              "      <td>1</td>\n",
              "      <td>266599</td>\n",
              "      <td>2021-11-09</td>\n",
              "      <td>1</td>\n",
              "      <td>300.08</td>\n",
              "      <td>300</td>\n",
              "      <td>Cash</td>\n",
              "      <td>Metrocity</td>\n",
              "      <td>11</td>\n",
              "    </tr>\n",
              "    <tr>\n",
              "      <th>3</th>\n",
              "      <td>173702</td>\n",
              "      <td>4</td>\n",
              "      <td>988172</td>\n",
              "      <td>2021-05-16</td>\n",
              "      <td>5</td>\n",
              "      <td>3000.85</td>\n",
              "      <td>15004</td>\n",
              "      <td>Credit Card</td>\n",
              "      <td>Metropol AVM</td>\n",
              "      <td>5</td>\n",
              "    </tr>\n",
              "    <tr>\n",
              "      <th>4</th>\n",
              "      <td>337046</td>\n",
              "      <td>0</td>\n",
              "      <td>189076</td>\n",
              "      <td>2021-10-24</td>\n",
              "      <td>4</td>\n",
              "      <td>60.60</td>\n",
              "      <td>242</td>\n",
              "      <td>Cash</td>\n",
              "      <td>Kanyon</td>\n",
              "      <td>10</td>\n",
              "    </tr>\n",
              "  </tbody>\n",
              "</table>\n",
              "</div>"
            ],
            "text/plain": [
              "   order_id  product_id  customer_id  order_date  quantity  price_per_unit  \\\n",
              "0    138884           1       241288  2022-08-05         5         1500.40   \n",
              "1    317333           4       111565  2021-12-12         3         1800.51   \n",
              "2    127801           1       266599  2021-11-09         1          300.08   \n",
              "3    173702           4       988172  2021-05-16         5         3000.85   \n",
              "4    337046           0       189076  2021-10-24         4           60.60   \n",
              "\n",
              "   total_price payment_method          region  order_month  \n",
              "0         7502    Credit Card          Kanyon            8  \n",
              "1         5401     Debit Card  Forum Istanbul           12  \n",
              "2          300           Cash       Metrocity           11  \n",
              "3        15004    Credit Card    Metropol AVM            5  \n",
              "4          242           Cash          Kanyon           10  "
            ]
          },
          "execution_count": 10,
          "metadata": {},
          "output_type": "execute_result"
        }
      ],
      "source": [
        "df['order_month'] = [int(x[5:7]) for x in df['order_date']]\n",
        "df.head()"
      ]
    },
    {
      "cell_type": "code",
      "execution_count": 11,
      "metadata": {
        "colab": {
          "base_uri": "https://localhost:8080/",
          "height": 488
        },
        "id": "_U16_nxNftNK",
        "outputId": "2d22929c-1f59-42e8-f028-a6277434869b"
      },
      "outputs": [
        {
          "data": {
            "text/html": [
              "<div>\n",
              "<style scoped>\n",
              "    .dataframe tbody tr th:only-of-type {\n",
              "        vertical-align: middle;\n",
              "    }\n",
              "\n",
              "    .dataframe tbody tr th {\n",
              "        vertical-align: top;\n",
              "    }\n",
              "\n",
              "    .dataframe thead tr th {\n",
              "        text-align: left;\n",
              "    }\n",
              "\n",
              "    .dataframe thead tr:last-of-type th {\n",
              "        text-align: right;\n",
              "    }\n",
              "</style>\n",
              "<table border=\"1\" class=\"dataframe\">\n",
              "  <thead>\n",
              "    <tr>\n",
              "      <th></th>\n",
              "      <th colspan=\"3\" halign=\"left\">total_price</th>\n",
              "    </tr>\n",
              "    <tr>\n",
              "      <th></th>\n",
              "      <th>sum</th>\n",
              "      <th>mean</th>\n",
              "      <th>max</th>\n",
              "    </tr>\n",
              "    <tr>\n",
              "      <th>order_month</th>\n",
              "      <th></th>\n",
              "      <th></th>\n",
              "      <th></th>\n",
              "    </tr>\n",
              "  </thead>\n",
              "  <tbody>\n",
              "    <tr>\n",
              "      <th>1</th>\n",
              "      <td>28886589</td>\n",
              "      <td>2488.506978</td>\n",
              "      <td>26250</td>\n",
              "    </tr>\n",
              "    <tr>\n",
              "      <th>2</th>\n",
              "      <td>26620674</td>\n",
              "      <td>2539.655982</td>\n",
              "      <td>26250</td>\n",
              "    </tr>\n",
              "    <tr>\n",
              "      <th>3</th>\n",
              "      <td>21952524</td>\n",
              "      <td>2514.607560</td>\n",
              "      <td>26250</td>\n",
              "    </tr>\n",
              "    <tr>\n",
              "      <th>4</th>\n",
              "      <td>18712486</td>\n",
              "      <td>2499.330306</td>\n",
              "      <td>26250</td>\n",
              "    </tr>\n",
              "    <tr>\n",
              "      <th>5</th>\n",
              "      <td>19716060</td>\n",
              "      <td>2561.525270</td>\n",
              "      <td>26250</td>\n",
              "    </tr>\n",
              "    <tr>\n",
              "      <th>6</th>\n",
              "      <td>18930564</td>\n",
              "      <td>2497.106450</td>\n",
              "      <td>26250</td>\n",
              "    </tr>\n",
              "    <tr>\n",
              "      <th>7</th>\n",
              "      <td>20375451</td>\n",
              "      <td>2586.701917</td>\n",
              "      <td>26250</td>\n",
              "    </tr>\n",
              "    <tr>\n",
              "      <th>8</th>\n",
              "      <td>19279118</td>\n",
              "      <td>2525.097315</td>\n",
              "      <td>26250</td>\n",
              "    </tr>\n",
              "    <tr>\n",
              "      <th>9</th>\n",
              "      <td>18792689</td>\n",
              "      <td>2555.785258</td>\n",
              "      <td>26250</td>\n",
              "    </tr>\n",
              "    <tr>\n",
              "      <th>10</th>\n",
              "      <td>20541837</td>\n",
              "      <td>2645.780139</td>\n",
              "      <td>26250</td>\n",
              "    </tr>\n",
              "    <tr>\n",
              "      <th>11</th>\n",
              "      <td>18203935</td>\n",
              "      <td>2406.972762</td>\n",
              "      <td>26250</td>\n",
              "    </tr>\n",
              "    <tr>\n",
              "      <th>12</th>\n",
              "      <td>19451842</td>\n",
              "      <td>2532.791927</td>\n",
              "      <td>26250</td>\n",
              "    </tr>\n",
              "  </tbody>\n",
              "</table>\n",
              "</div>"
            ],
            "text/plain": [
              "            total_price                    \n",
              "                    sum         mean    max\n",
              "order_month                                \n",
              "1              28886589  2488.506978  26250\n",
              "2              26620674  2539.655982  26250\n",
              "3              21952524  2514.607560  26250\n",
              "4              18712486  2499.330306  26250\n",
              "5              19716060  2561.525270  26250\n",
              "6              18930564  2497.106450  26250\n",
              "7              20375451  2586.701917  26250\n",
              "8              19279118  2525.097315  26250\n",
              "9              18792689  2555.785258  26250\n",
              "10             20541837  2645.780139  26250\n",
              "11             18203935  2406.972762  26250\n",
              "12             19451842  2532.791927  26250"
            ]
          },
          "execution_count": 11,
          "metadata": {},
          "output_type": "execute_result"
        }
      ],
      "source": [
        "df.groupby([\"order_month\"]).agg({'total_price':['sum','mean','max']})\n"
      ]
    },
    {
      "cell_type": "code",
      "execution_count": null,
      "metadata": {
        "id": "clCd8BvhhYqA"
      },
      "outputs": [],
      "source": []
    },
    {
      "cell_type": "code",
      "execution_count": null,
      "metadata": {
        "id": "Lw9sGx1VInJ9"
      },
      "outputs": [],
      "source": []
    },
    {
      "cell_type": "code",
      "execution_count": null,
      "metadata": {
        "id": "R0m5vsx4InMd"
      },
      "outputs": [],
      "source": []
    },
    {
      "cell_type": "code",
      "execution_count": 12,
      "metadata": {
        "colab": {
          "base_uri": "https://localhost:8080/"
        },
        "id": "naxU9VX0Y8xS",
        "outputId": "8e8f8142-1868-40f7-b11b-ba478e0b8b8e"
      },
      "outputs": [
        {
          "name": "stderr",
          "output_type": "stream",
          "text": [
            "24/07/26 15:22:04 WARN Utils: Your hostname, rusttm-ASUS-TUF resolves to a loopback address: 127.0.1.1; using 192.168.1.99 instead (on interface wlo1)\n",
            "24/07/26 15:22:04 WARN Utils: Set SPARK_LOCAL_IP if you need to bind to another address\n",
            "Setting default log level to \"WARN\".\n",
            "To adjust logging level use sc.setLogLevel(newLevel). For SparkR, use setLogLevel(newLevel).\n",
            "24/07/26 15:22:04 WARN NativeCodeLoader: Unable to load native-hadoop library for your platform... using builtin-java classes where applicable\n",
            "24/07/26 15:22:05 WARN Utils: Service 'SparkUI' could not bind on port 4040. Attempting port 4041.\n"
          ]
        },
        {
          "name": "stdout",
          "output_type": "stream",
          "text": [
            "+-----------+-----------+------------------+---------+\n",
            "|order_month|total_sales|     average_sales|max_sales|\n",
            "+-----------+-----------+------------------+---------+\n",
            "|          1|   28886589|2488.5069779462438|    26250|\n",
            "|          2|   26620674| 2539.655981682885|    26250|\n",
            "|          3|   21952524| 2514.607560137457|    26250|\n",
            "|          4|   18712486|2499.3303058634965|    26250|\n",
            "|          5|   19716060| 2561.525269585553|    26250|\n",
            "|          6|   18930564|2497.1064503363673|    26250|\n",
            "|          7|   20375451| 2586.701916973467|    26250|\n",
            "|          8|   19279118| 2525.097314996726|    26250|\n",
            "|          9|   18792689|2555.7852577179383|    26250|\n",
            "|         10|   20541837| 2645.780139103555|    26250|\n",
            "|         11|   18203935| 2406.972762131429|    26250|\n",
            "|         12|   19451842| 2532.791927083333|    26250|\n",
            "+-----------+-----------+------------------+---------+\n",
            "\n"
          ]
        },
        {
          "name": "stderr",
          "output_type": "stream",
          "text": [
            "24/07/26 15:22:18 WARN GarbageCollectionMetrics: To enable non-built-in garbage collector(s) List(G1 Concurrent GC), users should configure it(them) to spark.eventLog.gcMetrics.youngGenerationGarbageCollectors or spark.eventLog.gcMetrics.oldGenerationGarbageCollectors\n"
          ]
        }
      ],
      "source": [
        "#Создаем SparkSession\n",
        "spark=SparkSession.builder.appName('Practise').getOrCreate()\n",
        "df_pyspark=spark.read.load('sales_data3.csv', format=\"csv\", sep=\",\", header=\"true\", Infer_schema=True)\n",
        "\n",
        "# DataFrame.withColumn(colName, col). Returns a new DataFrame by adding a column or replacing the existing column that has the same name.\n",
        "\n",
        "\n",
        "#необходимые преобразования\n",
        "df_pyspark = df_pyspark.withColumn(\"order_id\", df_pyspark[\"order_id\"].cast('int'))\n",
        "df_pyspark = df_pyspark.withColumn(\"product_id\", df_pyspark[\"product_id\"].cast('int'))\n",
        "df_pyspark = df_pyspark.withColumn(\"customer_id\", df_pyspark[\"customer_id\"].cast('int'))\n",
        "df_pyspark = df_pyspark.withColumn(\"order_date\", df_pyspark[\"order_date\"].cast('date'))\n",
        "df_pyspark = df_pyspark.withColumn(\"quantity\", df_pyspark[\"quantity\"].cast('int'))\n",
        "df_pyspark = df_pyspark.withColumn(\"price_per_unit\", df_pyspark[\"price_per_unit\"].cast('int'))\n",
        "df_pyspark = df_pyspark.withColumn(\"total_price\", df_pyspark[\"total_price\"].cast('int'))\n",
        "\n",
        "#добавление колонки со значением месяца\n",
        "df_pyspark = df_pyspark.withColumn(\"order_month\", month(df_pyspark[\"order_date\"]))\n",
        "\n",
        "#нахождение нужных значений\n",
        "sales_analysis = df_pyspark.groupBy(\"order_month\").agg(\n",
        "                            sum(\"total_price\").alias(\"total_sales\"),\n",
        "                            avg(\"total_price\").alias(\"average_sales\"),\n",
        "                            max(\"total_price\").alias(\"max_sales\"))\n",
        "\n",
        "#вывод результата с сортировкой\n",
        "sales_analysis.orderBy('order_month').show()"
      ]
    },
    {
      "cell_type": "markdown",
      "metadata": {
        "id": "FG2A2IJyLVH_"
      },
      "source": [
        "DATAFRAME.groupBy(\"Колонка для группировки\").agg(\n",
        "                                      sum(\"колонка для вычисления \").alias(\"как переименуем новую колонку\"),\n",
        "                                      avg(\"total_price\").alias(\"average_sales\"),\n",
        "                                      max(\"total_price\").alias(\"max_sales\"))\n",
        "\n",
        "Колонка для группировки - по каждому уникальному значанию произведем агрегацию"
      ]
    },
    {
      "cell_type": "code",
      "execution_count": null,
      "metadata": {
        "id": "DGLYm35yLVKK"
      },
      "outputs": [],
      "source": []
    },
    {
      "cell_type": "markdown",
      "metadata": {
        "id": "a-lirKpeZT1g"
      },
      "source": [
        "### Задание 2: Вычислите  (sum) количество товаров (quantity), купленных различными методами оплаты (payment_method).\n"
      ]
    },
    {
      "cell_type": "markdown",
      "metadata": {
        "id": "syxKtruti038"
      },
      "source": [
        "Код выполняет агрегацию данных в DataFrame `df_pyspark` по столбцу `payment_method`, суммируя значения в столбце `quantity` для каждой группы и присваивая результату новое имя `num_of_sales`. В результате получается новый DataFrame `sales_analysis`, в котором каждая строка соответствует уникальному значению из столбца `payment_method`, а столбец\n",
        "`num_of_sales` содержит сумму значений `quantity` для каждой группы.\n",
        "\n",
        "- `groupBy(\"payment_method\")` группирует данные по столбцу `payment_method`, создавая группы для каждого уникального значения в этом столбце.\n",
        "- `agg(sum(\"quantity\").alias(\"num_of_sales\"))` применяет агрегационную функцию `sum` к столбцу `quantity` для каждой группы, суммируя значения `quantity` внутри каждой группы. Результат этой операции затем переименовывается в `num_of_sales` с помощью метода `alias`.\n",
        "\n",
        "Таким образом, код позволяет анализировать продажи по различным методам оплаты, суммируя количество продаж для каждого метода оплаты."
      ]
    },
    {
      "cell_type": "code",
      "execution_count": 13,
      "metadata": {
        "colab": {
          "base_uri": "https://localhost:8080/"
        },
        "id": "UI5-fenmSqP8",
        "outputId": "b5ba87b8-d067-4dd3-a50a-016d7b8a1697"
      },
      "outputs": [
        {
          "name": "stdout",
          "output_type": "stream",
          "text": [
            "+--------+----------+-----------+----------+--------+--------------+-----------+--------------+-----------------+-----------+\n",
            "|order_id|product_id|customer_id|order_date|quantity|price_per_unit|total_price|payment_method|           region|order_month|\n",
            "+--------+----------+-----------+----------+--------+--------------+-----------+--------------+-----------------+-----------+\n",
            "|  138884|         1|     241288|2022-08-05|       5|          1500|       7502|   Credit Card|           Kanyon|          8|\n",
            "|  317333|         4|     111565|2021-12-12|       3|          1800|       5401|    Debit Card|   Forum Istanbul|         12|\n",
            "|  127801|         1|     266599|2021-11-09|       1|           300|        300|          Cash|        Metrocity|         11|\n",
            "|  173702|         4|     988172|2021-05-16|       5|          3000|      15004|   Credit Card|     Metropol AVM|          5|\n",
            "|  337046|         0|     189076|2021-10-24|       4|            60|        242|          Cash|           Kanyon|         10|\n",
            "|  227836|         1|     657758|2022-05-24|       5|          1500|       7502|   Credit Card|   Forum Istanbul|          5|\n",
            "|  121056|         2|     151197|2022-03-13|       1|            40|         40|          Cash|     Istinye Park|          3|\n",
            "|  293112|         1|     176086|2021-01-13|       2|           600|       1200|   Credit Card| Mall of Istanbul|          1|\n",
            "|  293455|         1|     159642|2021-11-04|       3|           900|       2700|   Credit Card|        Metrocity|         11|\n",
            "|  326945|         1|     283361|2021-08-22|       2|           600|       1200|   Credit Card|           Kanyon|          8|\n",
            "|  306368|         3|     240286|2022-12-25|       2|            10|         20|          Cash|        Metrocity|         12|\n",
            "|  139207|         0|     191708|2022-10-28|       1|            15|         15|   Credit Card|Emaar Square Mall|         10|\n",
            "|  640508|         7|     225330|2022-07-31|       4|           143|        573|    Debit Card|        Metrocity|          7|\n",
            "|  179802|         1|     312861|2022-11-17|       2|           600|       1200|          Cash|      Cevahir AVM|         11|\n",
            "|  336189|         1|     555402|2022-06-03|       2|           600|       1200|   Credit Card|           Kanyon|          6|\n",
            "|  688768|         4|     362288|2021-11-07|       5|          3000|      15004|   Credit Card|   Viaport Outlet|         11|\n",
            "|  294687|         0|     300786|2021-01-16|       2|            30|         60|    Debit Card|        Metrocity|          1|\n",
            "|  195744|         3|     330667|2022-01-05|       3|            15|         47|   Credit Card|     Zorlu Center|          1|\n",
            "|  993048|         1|     218149|2021-07-26|       2|           600|       1200|          Cash|     Metropol AVM|          7|\n",
            "|  992454|         7|     196845|2023-03-07|       4|           143|        573|          Cash|      Cevahir AVM|          3|\n",
            "+--------+----------+-----------+----------+--------+--------------+-----------+--------------+-----------------+-----------+\n",
            "only showing top 20 rows\n",
            "\n"
          ]
        }
      ],
      "source": [
        "df_pyspark.show()"
      ]
    },
    {
      "cell_type": "code",
      "execution_count": 14,
      "metadata": {
        "colab": {
          "base_uri": "https://localhost:8080/"
        },
        "id": "LyOOjaMWZWSf",
        "outputId": "d448a5f4-f008-4286-f194-76881f374de5"
      },
      "outputs": [
        {
          "name": "stdout",
          "output_type": "stream",
          "text": [
            "+--------------+------------+\n",
            "|payment_method|num_of_sales|\n",
            "+--------------+------------+\n",
            "|    Debit Card|       60297|\n",
            "|   Credit Card|      105045|\n",
            "|          Cash|      133370|\n",
            "+--------------+------------+\n",
            "\n"
          ]
        }
      ],
      "source": [
        "#нахождение нужных значениях\n",
        "sales_analysis = df_pyspark.groupBy(\"payment_method\").agg(sum(\"quantity\").alias(\"num_of_sales\"))\n",
        "\n",
        "#вывод результата\n",
        "sales_analysis.orderBy('num_of_sales').show()"
      ]
    },
    {
      "cell_type": "code",
      "execution_count": 15,
      "metadata": {
        "colab": {
          "base_uri": "https://localhost:8080/",
          "height": 175
        },
        "id": "D7Vc1oIRh3II",
        "outputId": "e7cb5c95-7e6d-4ae0-87ad-a387d120e7ba"
      },
      "outputs": [
        {
          "data": {
            "text/html": [
              "<div>\n",
              "<style scoped>\n",
              "    .dataframe tbody tr th:only-of-type {\n",
              "        vertical-align: middle;\n",
              "    }\n",
              "\n",
              "    .dataframe tbody tr th {\n",
              "        vertical-align: top;\n",
              "    }\n",
              "\n",
              "    .dataframe thead th {\n",
              "        text-align: right;\n",
              "    }\n",
              "</style>\n",
              "<table border=\"1\" class=\"dataframe\">\n",
              "  <thead>\n",
              "    <tr style=\"text-align: right;\">\n",
              "      <th></th>\n",
              "      <th>quantity</th>\n",
              "    </tr>\n",
              "    <tr>\n",
              "      <th>payment_method</th>\n",
              "      <th></th>\n",
              "    </tr>\n",
              "  </thead>\n",
              "  <tbody>\n",
              "    <tr>\n",
              "      <th>Debit Card</th>\n",
              "      <td>60297</td>\n",
              "    </tr>\n",
              "    <tr>\n",
              "      <th>Credit Card</th>\n",
              "      <td>105045</td>\n",
              "    </tr>\n",
              "    <tr>\n",
              "      <th>Cash</th>\n",
              "      <td>133370</td>\n",
              "    </tr>\n",
              "  </tbody>\n",
              "</table>\n",
              "</div>"
            ],
            "text/plain": [
              "                quantity\n",
              "payment_method          \n",
              "Debit Card         60297\n",
              "Credit Card       105045\n",
              "Cash              133370"
            ]
          },
          "execution_count": 15,
          "metadata": {},
          "output_type": "execute_result"
        }
      ],
      "source": [
        "df.groupby([\"payment_method\"]).agg({'quantity':'sum'}).sort_values('quantity')"
      ]
    },
    {
      "cell_type": "code",
      "execution_count": null,
      "metadata": {
        "id": "Zf13Gipnh3KZ"
      },
      "outputs": [],
      "source": []
    },
    {
      "cell_type": "markdown",
      "metadata": {
        "id": "YN9WbJQiueVo"
      },
      "source": [
        "----------------------------------------------------------"
      ]
    },
    {
      "cell_type": "markdown",
      "metadata": {
        "id": "4ddxISE3Zcj9"
      },
      "source": [
        "### Задание 3: Найдите регион gb(region) с самым sort_values большой sum(total_price) суммарной стоимостью продаж\n"
      ]
    },
    {
      "cell_type": "markdown",
      "metadata": {
        "id": "tBUx9TzgfL_x"
      },
      "source": [
        "1. Группируем данные в DataFrame `df_pyspark` по столбцу `region`, а затем применяет агрегационную функцию `sum` к столбцу `total_price` для каждой группы. Результат этой операции переименовывается в `total_price_per_region`.\n",
        "2. Создаем новый DataFrame `sales_analysis`, содержащий сумму `total_price` для каждой уникальной `region`.\n",
        "3. Выбираем столбец `region` из DataFrame `sales_analysis`, сортирует его по убыванию значений `total_price_per_region` и выбирает первую запись.\n",
        "4. Выводим результат, который представляет собой регион с наибольшей суммой `total_price`.\n",
        "\n",
        "Таким образом, код анализирует продажи по регионам, суммирует общую стоимость продаж для каждого региона и определяет регион с наибольшей суммой продаж."
      ]
    },
    {
      "cell_type": "code",
      "execution_count": 16,
      "metadata": {
        "colab": {
          "base_uri": "https://localhost:8080/"
        },
        "id": "8SzQa3f-Zd6P",
        "outputId": "99d7c7c1-2fff-40bc-b544-21dd7bc3f693"
      },
      "outputs": [
        {
          "name": "stdout",
          "output_type": "stream",
          "text": [
            "Mall of Istanbul\n"
          ]
        }
      ],
      "source": [
        "#нахождение нужных значениях\n",
        "sales_analysis = df_pyspark.groupBy(\"region\").agg(sum(\"total_price\").alias(\"total_price_per_region\"))\n",
        "total_price_per_region = sales_analysis.select(\"region\").orderBy(sales_analysis.total_price_per_region.desc()).first()\n",
        "\n",
        "#вывод результата\n",
        "print(*total_price_per_region)"
      ]
    },
    {
      "cell_type": "markdown",
      "metadata": {
        "id": "m9BaswoJjSi8"
      },
      "source": []
    },
    {
      "cell_type": "code",
      "execution_count": 17,
      "metadata": {
        "colab": {
          "base_uri": "https://localhost:8080/",
          "height": 112
        },
        "id": "a4GhKyvxjIy-",
        "outputId": "d0e1bbc8-12af-46ed-d03d-515ba2a59725"
      },
      "outputs": [
        {
          "data": {
            "text/html": [
              "<div>\n",
              "<style scoped>\n",
              "    .dataframe tbody tr th:only-of-type {\n",
              "        vertical-align: middle;\n",
              "    }\n",
              "\n",
              "    .dataframe tbody tr th {\n",
              "        vertical-align: top;\n",
              "    }\n",
              "\n",
              "    .dataframe thead th {\n",
              "        text-align: right;\n",
              "    }\n",
              "</style>\n",
              "<table border=\"1\" class=\"dataframe\">\n",
              "  <thead>\n",
              "    <tr style=\"text-align: right;\">\n",
              "      <th></th>\n",
              "      <th>total_price</th>\n",
              "    </tr>\n",
              "    <tr>\n",
              "      <th>region</th>\n",
              "      <th></th>\n",
              "    </tr>\n",
              "  </thead>\n",
              "  <tbody>\n",
              "    <tr>\n",
              "      <th>Mall of Istanbul</th>\n",
              "      <td>50864070</td>\n",
              "    </tr>\n",
              "  </tbody>\n",
              "</table>\n",
              "</div>"
            ],
            "text/plain": [
              "                  total_price\n",
              "region                       \n",
              "Mall of Istanbul     50864070"
            ]
          },
          "execution_count": 17,
          "metadata": {},
          "output_type": "execute_result"
        }
      ],
      "source": [
        "df.groupby([\"region\"]).agg({'total_price':'sum'}).sort_values('total_price', ascending=False).head(1)"
      ]
    },
    {
      "cell_type": "markdown",
      "metadata": {
        "id": "eoxgAb7vumEL"
      },
      "source": [
        "--------------------------------------------------------------"
      ]
    },
    {
      "cell_type": "markdown",
      "metadata": {
        "id": "U5VwaTqpZieZ"
      },
      "source": [
        "### Задание 4: Вычислите общую сумму продаж и среднюю сумму продажи для каждого региона.\n"
      ]
    },
    {
      "cell_type": "markdown",
      "metadata": {
        "id": "XGXeHTG5fU5X"
      },
      "source": [
        "1. Группируем данные в DataFrame `df_pyspark` по столбцу `region`, а затем применяет агрегационные функции `sum` и `avg` к столбцу `total_price` для каждой группы. Результаты этих операций переименовываются в `total_price_per_region` и `avg_price_per_region` соответственно.\n",
        "2. Создаем новый DataFrame `sales_analysis`, содержащий сумму `total_price` и среднее значение `total_price` для каждой уникальной `region`.\n",
        "3. Выводим результаты из DataFrame `sales_analysis` с помощью метода `show()`, который отображает содержимое DataFrame в консоли.\n",
        "\n",
        "Таким образом, код анализирует продажи по регионам, суммирует общую стоимость продаж и вычисляет среднюю стоимость продаж для каждого региона. Это позволяет получить общую картину продаж по регионам, включая как общую стоимость продаж, так и среднюю стоимость продаж в каждом регионе."
      ]
    },
    {
      "cell_type": "code",
      "execution_count": 18,
      "metadata": {
        "colab": {
          "base_uri": "https://localhost:8080/"
        },
        "id": "TAR3SCC_ZirD",
        "outputId": "957689eb-3c66-4970-f4a2-0a0f302af863"
      },
      "outputs": [
        {
          "name": "stdout",
          "output_type": "stream",
          "text": [
            "+-----------------+----------------------+--------------------+\n",
            "|           region|total_price_per_region|avg_price_per_region|\n",
            "+-----------------+----------------------+--------------------+\n",
            "|   Forum Istanbul|              12301819|  2486.7230644835254|\n",
            "|Emaar Square Mall|              12404043|  2578.2670962377883|\n",
            "|   Viaport Outlet|              12519268|   2547.673585673586|\n",
            "|      Cevahir AVM|              12643034|   2533.166499699459|\n",
            "|     Zorlu Center|              12898877|   2541.650640394089|\n",
            "|     Istinye Park|              24614711|   2516.584296084245|\n",
            "|     Metropol AVM|              25375594|  2497.3520322802874|\n",
            "|        Metrocity|              37296468|   2484.609153287589|\n",
            "|           Kanyon|              50545885|    2549.86051556273|\n",
            "| Mall of Istanbul|              50864070|   2550.472346186632|\n",
            "+-----------------+----------------------+--------------------+\n",
            "\n"
          ]
        }
      ],
      "source": [
        "#нахождение нужных значениях\n",
        "sales_analysis = df_pyspark.groupBy(\"region\").agg(\n",
        "    sum(\"total_price\").alias(\"total_price_per_region\"),\n",
        "    avg(\"total_price\").alias(\"avg_price_per_region\")\n",
        ")\n",
        "#вывод результата\n",
        "sales_analysis.orderBy('total_price_per_region').show()"
      ]
    },
    {
      "cell_type": "code",
      "execution_count": 19,
      "metadata": {
        "colab": {
          "base_uri": "https://localhost:8080/",
          "height": 425
        },
        "id": "kZlUwZzUj4PL",
        "outputId": "8eaff836-063f-4435-fbe6-5a1dcb767558"
      },
      "outputs": [
        {
          "data": {
            "text/html": [
              "<div>\n",
              "<style scoped>\n",
              "    .dataframe tbody tr th:only-of-type {\n",
              "        vertical-align: middle;\n",
              "    }\n",
              "\n",
              "    .dataframe tbody tr th {\n",
              "        vertical-align: top;\n",
              "    }\n",
              "\n",
              "    .dataframe thead tr th {\n",
              "        text-align: left;\n",
              "    }\n",
              "\n",
              "    .dataframe thead tr:last-of-type th {\n",
              "        text-align: right;\n",
              "    }\n",
              "</style>\n",
              "<table border=\"1\" class=\"dataframe\">\n",
              "  <thead>\n",
              "    <tr>\n",
              "      <th></th>\n",
              "      <th colspan=\"2\" halign=\"left\">total_price</th>\n",
              "    </tr>\n",
              "    <tr>\n",
              "      <th></th>\n",
              "      <th>sum</th>\n",
              "      <th>mean</th>\n",
              "    </tr>\n",
              "    <tr>\n",
              "      <th>region</th>\n",
              "      <th></th>\n",
              "      <th></th>\n",
              "    </tr>\n",
              "  </thead>\n",
              "  <tbody>\n",
              "    <tr>\n",
              "      <th>Forum Istanbul</th>\n",
              "      <td>12301819</td>\n",
              "      <td>2486.723064</td>\n",
              "    </tr>\n",
              "    <tr>\n",
              "      <th>Emaar Square Mall</th>\n",
              "      <td>12404043</td>\n",
              "      <td>2578.267096</td>\n",
              "    </tr>\n",
              "    <tr>\n",
              "      <th>Viaport Outlet</th>\n",
              "      <td>12519268</td>\n",
              "      <td>2547.673586</td>\n",
              "    </tr>\n",
              "    <tr>\n",
              "      <th>Cevahir AVM</th>\n",
              "      <td>12643034</td>\n",
              "      <td>2533.166500</td>\n",
              "    </tr>\n",
              "    <tr>\n",
              "      <th>Zorlu Center</th>\n",
              "      <td>12898877</td>\n",
              "      <td>2541.650640</td>\n",
              "    </tr>\n",
              "    <tr>\n",
              "      <th>Istinye Park</th>\n",
              "      <td>24614711</td>\n",
              "      <td>2516.584296</td>\n",
              "    </tr>\n",
              "    <tr>\n",
              "      <th>Metropol AVM</th>\n",
              "      <td>25375594</td>\n",
              "      <td>2497.352032</td>\n",
              "    </tr>\n",
              "    <tr>\n",
              "      <th>Metrocity</th>\n",
              "      <td>37296468</td>\n",
              "      <td>2484.609153</td>\n",
              "    </tr>\n",
              "    <tr>\n",
              "      <th>Kanyon</th>\n",
              "      <td>50545885</td>\n",
              "      <td>2549.860516</td>\n",
              "    </tr>\n",
              "    <tr>\n",
              "      <th>Mall of Istanbul</th>\n",
              "      <td>50864070</td>\n",
              "      <td>2550.472346</td>\n",
              "    </tr>\n",
              "  </tbody>\n",
              "</table>\n",
              "</div>"
            ],
            "text/plain": [
              "                  total_price             \n",
              "                          sum         mean\n",
              "region                                    \n",
              "Forum Istanbul       12301819  2486.723064\n",
              "Emaar Square Mall    12404043  2578.267096\n",
              "Viaport Outlet       12519268  2547.673586\n",
              "Cevahir AVM          12643034  2533.166500\n",
              "Zorlu Center         12898877  2541.650640\n",
              "Istinye Park         24614711  2516.584296\n",
              "Metropol AVM         25375594  2497.352032\n",
              "Metrocity            37296468  2484.609153\n",
              "Kanyon               50545885  2549.860516\n",
              "Mall of Istanbul     50864070  2550.472346"
            ]
          },
          "execution_count": 19,
          "metadata": {},
          "output_type": "execute_result"
        }
      ],
      "source": [
        "df.groupby([\"region\"]).agg({'total_price':['sum','mean']}).sort_values(('total_price',  'sum'), ascending=True)"
      ]
    },
    {
      "cell_type": "markdown",
      "metadata": {
        "id": "NO37aDRFurog"
      },
      "source": [
        "-------------------------------------------------------------------------"
      ]
    },
    {
      "cell_type": "markdown",
      "metadata": {
        "id": "hYUYfDqbZoUl"
      },
      "source": [
        "### Задание 5: Вычислите общее количество и сумму товаров, проданных за наличные в 2022 году.\n"
      ]
    },
    {
      "cell_type": "markdown",
      "metadata": {
        "id": "0S5XRpapfhDb"
      },
      "source": [
        "1. Добавляем новую колонку `order_year` в DataFrame `df_pyspark`, используя функцию `year` для извлечения года из даты в колонке `order_date`.\n",
        "2. Фильтруем DataFrame `df_pyspark` по двум условиям: методу оплаты должен быть \"Наличные\" и год заказа должен быть 2022.\n",
        "3. Агрегируем данные, суммируя количество (`quantity`) и общую стоимость (`total_price`) для всех записей, удовлетворяющих условиям фильтрации. Результаты этих операций переименовываются в `total_quantity_2022` и `total_price_2022` соответственно.\n",
        "4. Создаем новый DataFrame `sales_analysis`, содержащий сумму количества и общую стоимость продаж за 2022 год, оплаченных наличными.\n",
        "5. Выводим результаты из DataFrame `sales_analysis` с помощью метода `show()`, который отображает содержимое DataFrame в консоли.\n",
        "\n",
        "Таким образом, код анализирует продажи, оплаченные наличными, за 2022 год, суммируя количество и общую стоимость продаж для этого периода."
      ]
    },
    {
      "cell_type": "code",
      "execution_count": 20,
      "metadata": {
        "colab": {
          "base_uri": "https://localhost:8080/"
        },
        "id": "t1-mw38JZqmJ",
        "outputId": "60cb2749-66eb-472f-ac76-c140747852ac"
      },
      "outputs": [
        {
          "name": "stdout",
          "output_type": "stream",
          "text": [
            "+-------------------+----------------+\n",
            "|total_quantity_2022|total_price_2022|\n",
            "+-------------------+----------------+\n",
            "|              61390|        51688958|\n",
            "+-------------------+----------------+\n",
            "\n"
          ]
        }
      ],
      "source": [
        "#добавление колонки со значением года\n",
        "df_pyspark = df_pyspark.withColumn(\"order_year\", year(df_pyspark[\"order_date\"]))\n",
        "\n",
        "#нахождение нужных значений\n",
        "sales_analysis = df_pyspark.filter((df_pyspark.payment_method == \"Cash\") & (df_pyspark.order_year == 2022)).agg(\n",
        "    sum(\"quantity\").alias(\"total_quantity_2022\"),\n",
        "    sum(\"total_price\").alias(\"total_price_2022\")\n",
        ")\n",
        "\n",
        "#вывод результата с сортировкой\n",
        "sales_analysis.show()"
      ]
    },
    {
      "cell_type": "code",
      "execution_count": 21,
      "metadata": {
        "colab": {
          "base_uri": "https://localhost:8080/",
          "height": 112
        },
        "id": "-pNR3jBBlKD8",
        "outputId": "0a1a843b-b594-4904-a3f2-f29e073d2227"
      },
      "outputs": [
        {
          "data": {
            "text/html": [
              "<div>\n",
              "<style scoped>\n",
              "    .dataframe tbody tr th:only-of-type {\n",
              "        vertical-align: middle;\n",
              "    }\n",
              "\n",
              "    .dataframe tbody tr th {\n",
              "        vertical-align: top;\n",
              "    }\n",
              "\n",
              "    .dataframe thead th {\n",
              "        text-align: right;\n",
              "    }\n",
              "</style>\n",
              "<table border=\"1\" class=\"dataframe\">\n",
              "  <thead>\n",
              "    <tr style=\"text-align: right;\">\n",
              "      <th></th>\n",
              "      <th>quantity</th>\n",
              "      <th>total_price</th>\n",
              "    </tr>\n",
              "    <tr>\n",
              "      <th>payment_method</th>\n",
              "      <th></th>\n",
              "      <th></th>\n",
              "    </tr>\n",
              "  </thead>\n",
              "  <tbody>\n",
              "    <tr>\n",
              "      <th>Cash</th>\n",
              "      <td>61390</td>\n",
              "      <td>51688958</td>\n",
              "    </tr>\n",
              "  </tbody>\n",
              "</table>\n",
              "</div>"
            ],
            "text/plain": [
              "                quantity  total_price\n",
              "payment_method                       \n",
              "Cash               61390     51688958"
            ]
          },
          "execution_count": 21,
          "metadata": {},
          "output_type": "execute_result"
        }
      ],
      "source": [
        "df['order_year'] = [int(x[:4]) for x in df['order_date']]\n",
        "dfn = df[(df.payment_method==\"Cash\")&(df.order_year==2022)]\n",
        "dfn.groupby([\"payment_method\"]).agg({'quantity':'sum','total_price':'sum'})"
      ]
    },
    {
      "cell_type": "code",
      "execution_count": null,
      "metadata": {
        "id": "8UKclhZClKqT"
      },
      "outputs": [],
      "source": []
    },
    {
      "cell_type": "markdown",
      "metadata": {
        "id": "W43HjvgJZvDg"
      },
      "source": [
        "### Задание 6: Найдите уникальное количество покупателей за 2022 год\n"
      ]
    },
    {
      "cell_type": "markdown",
      "metadata": {
        "id": "PGF3TaRrfp3x"
      },
      "source": [
        "1. Импортируем функцию `countDistinct` из модуля `pyspark.sql.functions`. Эта функция используется для подсчета уникальных значений в определенных столбцах DataFrame.\n",
        "2. Фильтруем исходный DataFrame `df_pyspark`, оставляя только записи за 2022 год. Это делается с помощью метода `filter`, который принимает условие для фильтрации.\n",
        "3. Выбираем из отфильтрованного DataFrame количество уникальных значений в столбце `customer_id` с использованием функции `countDistinct`. Результат сохраняется в новом столбце с именем `unique_users` [1].\n",
        "4. Выводим результат на экран с помощью метода `show`. Этот метод отображает данные DataFrame в удобном для чтения формате.\n",
        "\n",
        "В итоге, код подсчитывает количество уникальных клиентов (`customer_id`), совершивших покупки в 2022 году, и выводит это количество на экран."
      ]
    },
    {
      "cell_type": "code",
      "execution_count": 22,
      "metadata": {
        "colab": {
          "base_uri": "https://localhost:8080/"
        },
        "id": "-z8hXbOIZwxB",
        "outputId": "cdd2ca9c-2d20-4630-f7f2-223f378f56b9"
      },
      "outputs": [
        {
          "name": "stdout",
          "output_type": "stream",
          "text": [
            "+------------+\n",
            "|unique_users|\n",
            "+------------+\n",
            "|       45551|\n",
            "+------------+\n",
            "\n"
          ]
        }
      ],
      "source": [
        "#нахождение нужных значений\n",
        "sales_analysis = df_pyspark.filter(df_pyspark.order_year == 2022)\n",
        "sales_analysis = sales_analysis.select(countDistinct(\"customer_id\").alias(\"unique_users\"))\n",
        "\n",
        "#вывод результата с сортировкой\n",
        "sales_analysis.show()"
      ]
    },
    {
      "cell_type": "code",
      "execution_count": 23,
      "metadata": {
        "colab": {
          "base_uri": "https://localhost:8080/",
          "height": 112
        },
        "id": "mIw63DP5mnIR",
        "outputId": "b7e1b589-385a-40de-933e-2f6fb5009c50"
      },
      "outputs": [
        {
          "data": {
            "text/html": [
              "<div>\n",
              "<style scoped>\n",
              "    .dataframe tbody tr th:only-of-type {\n",
              "        vertical-align: middle;\n",
              "    }\n",
              "\n",
              "    .dataframe tbody tr th {\n",
              "        vertical-align: top;\n",
              "    }\n",
              "\n",
              "    .dataframe thead th {\n",
              "        text-align: right;\n",
              "    }\n",
              "</style>\n",
              "<table border=\"1\" class=\"dataframe\">\n",
              "  <thead>\n",
              "    <tr style=\"text-align: right;\">\n",
              "      <th></th>\n",
              "      <th>customer_id</th>\n",
              "    </tr>\n",
              "    <tr>\n",
              "      <th>order_year</th>\n",
              "      <th></th>\n",
              "    </tr>\n",
              "  </thead>\n",
              "  <tbody>\n",
              "    <tr>\n",
              "      <th>2022</th>\n",
              "      <td>45551</td>\n",
              "    </tr>\n",
              "  </tbody>\n",
              "</table>\n",
              "</div>"
            ],
            "text/plain": [
              "            customer_id\n",
              "order_year             \n",
              "2022              45551"
            ]
          },
          "execution_count": 23,
          "metadata": {},
          "output_type": "execute_result"
        }
      ],
      "source": [
        "dfn = df[(df.order_year==2022)]\n",
        "dfn.groupby([\"order_year\"]).agg({'customer_id':'count'})"
      ]
    },
    {
      "cell_type": "markdown",
      "metadata": {
        "id": "VMMf7s8_Z0u5"
      },
      "source": [
        "### Задание 7: Вам даны данные с информацией о стоимости продуктов в различных валютах. Ваша задача состоит в том, чтобы перевести все цены в доллары, используя текущие курсы валют. Однако у вас есть ограничение: для некоторых продуктов курс валюты неизвестен и их стоимость должна остаться в исходной валюте. (Для конвертации из EUR в USD нужно умножить на 1.2)\n"
      ]
    },
    {
      "cell_type": "markdown",
      "metadata": {
        "id": "09iuWD2Kf0Nk"
      },
      "source": [
        "1. Импортируем необходимые модули и функции из PySpark для работы с SparkSession и функцией `when` для условной логики.\n",
        "2. Создаем сессию Spark с именем приложения \"currency_conversion\". Это необходимо для работы с Spark и выполнения операций с данными.\n",
        "3. Загружаем данные в DataFrame `df` с помощью метода `createDataFrame`. Данные представляют собой список кортежей, где каждый кортеж содержит информацию о продукте: его идентификатор (`product_id`), цену (`price`) и валюту (`currency`).\n",
        "4. Добавляем новый столбец `price_usd` в DataFrame, который содержит цену продукта в долларах США. Для этого используется функция `when` для условного преобразования цены в зависимости от валюты:\n",
        "   - Если валюта равна \"USD\", цена остается без изменений.\n",
        "   - Если валюта равна \"EUR\", цена умножается на курс обмена 1.2 (примерный курс EUR/USD).\n",
        "   - Если валюта неизвестна, цена остается без изменений.\n",
        "5. Выводим результат на экран с помощью метода `show`. Это позволяет увидеть, как изменились цены после конвертации в доллары США.\n",
        "\n",
        "В итоге, код позволяет преобразовать цены продуктов из разных валют в доллары США, используя примерный курс обмена для EUR/USD."
      ]
    },
    {
      "cell_type": "code",
      "execution_count": 24,
      "metadata": {
        "colab": {
          "base_uri": "https://localhost:8080/"
        },
        "id": "Pa6-W5fOZ2h7",
        "outputId": "2bdb9af6-74af-419d-9bb2-d450f8cf393a"
      },
      "outputs": [
        {
          "name": "stderr",
          "output_type": "stream",
          "text": [
            "24/07/26 15:23:24 WARN SparkSession: Using an existing Spark session; only runtime SQL configurations will take effect.\n"
          ]
        },
        {
          "name": "stdout",
          "output_type": "stream",
          "text": [
            "+----------+-----+--------+---------+\n",
            "|product_id|price|currency|price_usd|\n",
            "+----------+-----+--------+---------+\n",
            "|         1|  100|     USD|    100.0|\n",
            "|         2|  200|     EUR|    240.0|\n",
            "|         3|  300| Unknown|    300.0|\n",
            "|         4|  100|     EUR|    120.0|\n",
            "|         5|  200|     EUR|    240.0|\n",
            "|         6|  300| Unknown|    300.0|\n",
            "|         7|  100| Unknown|    100.0|\n",
            "|         8|  200|     USD|    200.0|\n",
            "|         9|  300|     USD|    300.0|\n",
            "+----------+-----+--------+---------+\n",
            "\n"
          ]
        }
      ],
      "source": [
        "# Создание сессии Spark\n",
        "spark = SparkSession.builder.appName(\"currency_conversion\").getOrCreate()\n",
        "\n",
        "# Загрузка датасета\n",
        "data = [(1, 100, \"USD\"),\n",
        "        (2, 200, \"EUR\"),\n",
        "        (3, 300, \"Unknown\"),\n",
        "        (4, 100, \"EUR\"),\n",
        "        (5, 200, \"EUR\"),\n",
        "        (6, 300, \"Unknown\"),\n",
        "        (7, 100, \"Unknown\"),\n",
        "        (8, 200, \"USD\"),\n",
        "        (9, 300, \"USD\")\n",
        "]\n",
        "df = spark.createDataFrame(data, [\"product_id\", \"price\", \"currency\"])\n",
        "\n",
        "# Добавление столбца с конвертированной ценой\n",
        "df = df.withColumn(\"price_usd\", when(df.currency == \"USD\", df.price)\n",
        "                                 .when(df.currency == \"EUR\", df.price * 1.2)  # Примерный курс EUR/USD = 1.2\n",
        "                             \t.otherwise(df.price))  # Если курс неизвестен, оставляем в исходной валюте\n",
        "\n",
        "\n",
        "# df = df.withColumn(\"price_usd\", when(df.currency == \"USD\", df.price).when(df.currency == \"EUR\", df.price * 1.2).otherwise(df.price))\n",
        "\n",
        "\n",
        "\n",
        "# Вывод результата\n",
        "df.show()"
      ]
    },
    {
      "cell_type": "code",
      "execution_count": 25,
      "metadata": {
        "colab": {
          "base_uri": "https://localhost:8080/",
          "height": 331
        },
        "id": "iBSmVBPInDJ9",
        "outputId": "420a3139-70a4-4fcc-fe1e-d768de182437"
      },
      "outputs": [
        {
          "data": {
            "text/html": [
              "<div>\n",
              "<style scoped>\n",
              "    .dataframe tbody tr th:only-of-type {\n",
              "        vertical-align: middle;\n",
              "    }\n",
              "\n",
              "    .dataframe tbody tr th {\n",
              "        vertical-align: top;\n",
              "    }\n",
              "\n",
              "    .dataframe thead th {\n",
              "        text-align: right;\n",
              "    }\n",
              "</style>\n",
              "<table border=\"1\" class=\"dataframe\">\n",
              "  <thead>\n",
              "    <tr style=\"text-align: right;\">\n",
              "      <th></th>\n",
              "      <th>product_id</th>\n",
              "      <th>price</th>\n",
              "      <th>currency</th>\n",
              "      <th>price_usd</th>\n",
              "    </tr>\n",
              "  </thead>\n",
              "  <tbody>\n",
              "    <tr>\n",
              "      <th>0</th>\n",
              "      <td>1</td>\n",
              "      <td>100</td>\n",
              "      <td>USD</td>\n",
              "      <td>100.0</td>\n",
              "    </tr>\n",
              "    <tr>\n",
              "      <th>1</th>\n",
              "      <td>2</td>\n",
              "      <td>200</td>\n",
              "      <td>EUR</td>\n",
              "      <td>240.0</td>\n",
              "    </tr>\n",
              "    <tr>\n",
              "      <th>2</th>\n",
              "      <td>3</td>\n",
              "      <td>300</td>\n",
              "      <td>Unknown</td>\n",
              "      <td>300.0</td>\n",
              "    </tr>\n",
              "    <tr>\n",
              "      <th>3</th>\n",
              "      <td>4</td>\n",
              "      <td>100</td>\n",
              "      <td>EUR</td>\n",
              "      <td>120.0</td>\n",
              "    </tr>\n",
              "    <tr>\n",
              "      <th>4</th>\n",
              "      <td>5</td>\n",
              "      <td>200</td>\n",
              "      <td>EUR</td>\n",
              "      <td>240.0</td>\n",
              "    </tr>\n",
              "    <tr>\n",
              "      <th>5</th>\n",
              "      <td>6</td>\n",
              "      <td>300</td>\n",
              "      <td>Unknown</td>\n",
              "      <td>300.0</td>\n",
              "    </tr>\n",
              "    <tr>\n",
              "      <th>6</th>\n",
              "      <td>7</td>\n",
              "      <td>100</td>\n",
              "      <td>Unknown</td>\n",
              "      <td>100.0</td>\n",
              "    </tr>\n",
              "    <tr>\n",
              "      <th>7</th>\n",
              "      <td>8</td>\n",
              "      <td>200</td>\n",
              "      <td>USD</td>\n",
              "      <td>200.0</td>\n",
              "    </tr>\n",
              "    <tr>\n",
              "      <th>8</th>\n",
              "      <td>9</td>\n",
              "      <td>300</td>\n",
              "      <td>USD</td>\n",
              "      <td>300.0</td>\n",
              "    </tr>\n",
              "  </tbody>\n",
              "</table>\n",
              "</div>"
            ],
            "text/plain": [
              "   product_id  price currency  price_usd\n",
              "0           1    100      USD      100.0\n",
              "1           2    200      EUR      240.0\n",
              "2           3    300  Unknown      300.0\n",
              "3           4    100      EUR      120.0\n",
              "4           5    200      EUR      240.0\n",
              "5           6    300  Unknown      300.0\n",
              "6           7    100  Unknown      100.0\n",
              "7           8    200      USD      200.0\n",
              "8           9    300      USD      300.0"
            ]
          },
          "execution_count": 25,
          "metadata": {},
          "output_type": "execute_result"
        }
      ],
      "source": [
        "dx = pd.DataFrame(data, columns = [\"product_id\", \"price\", \"currency\"])\n",
        "dx['price_usd'] = [dx.loc[x,'price'] if dx.loc[x,'currency']==\"USD\" \\\n",
        "                      else ( dx.loc[x,'price']*1.2 if dx.loc[x,'currency']==\"EUR\" else  dx.loc[x,'price'] )       \\\n",
        "                      for x in range(len(dx))]\n",
        "dx"
      ]
    },
    {
      "cell_type": "markdown",
      "metadata": {
        "id": "XBdDk6HgZ8WL"
      },
      "source": [
        "### Задание 8: Допустим, есть два датасета: один содержит информацию о пользователях (user_id, name, age), а другой содержит информацию о покупках пользователей (user_id, product_id, date). Необходимо найти средний возраст пользователей, совершивших покупки.\n"
      ]
    },
    {
      "cell_type": "markdown",
      "metadata": {
        "id": "lXBhoxLQgJn9"
      },
      "source": [
        "1. Инициализируем Spark сессию с именем приложения \"user_purchase_join\".\n",
        "2. Создаем два DataFrame: `users_df` и `purchases_df`. Первый содержит информацию о пользователях (ID, имя, возраст), второй - о покупках (ID пользователя, ID продукта, дата покупки).\n",
        "3. Выполняем операцию соединения (join) между этими двумя DataFrame по столбцу `user_id`. Это позволяет объединить информацию о пользователях и их покупках в одном DataFrame.\n",
        "4. Группируем результат по `user_id` и вычисляет средний возраст пользователей, которые совершили покупки.\n",
        "5. Выводим результат на экран.\n",
        "\n",
        "Основная цель кода - анализировать данные о покупках пользователей, вычисляя средний возраст пользователей, совершивших покупки. Это может быть полезно для анализа поведения пользователей и оптимизации маркетинговых стратегий."
      ]
    },
    {
      "cell_type": "code",
      "execution_count": 26,
      "metadata": {
        "colab": {
          "base_uri": "https://localhost:8080/"
        },
        "id": "jektE8ZlZ8KH",
        "outputId": "2bf33376-1b13-4a27-aa36-ca30ee3b2c8c"
      },
      "outputs": [
        {
          "name": "stderr",
          "output_type": "stream",
          "text": [
            "24/07/26 15:23:39 WARN SparkSession: Using an existing Spark session; only runtime SQL configurations will take effect.\n"
          ]
        },
        {
          "name": "stdout",
          "output_type": "stream",
          "text": [
            "+-------+-----------+\n",
            "|user_id|average_age|\n",
            "+-------+-----------+\n",
            "|      1|       25.0|\n",
            "|      2|       30.0|\n",
            "|      3|       28.0|\n",
            "|      6|       17.0|\n",
            "+-------+-----------+\n",
            "\n"
          ]
        }
      ],
      "source": [
        "# Создаем Spark сессию\n",
        "spark = SparkSession.builder.appName(\"user_purchase_join\").getOrCreate()\n",
        "\n",
        "# Загружаем датасеты\n",
        "users_df = spark.createDataFrame([\n",
        "\t(1, \"Alice\", 25),\n",
        "\t(2, \"Bob\", 30),\n",
        "\t(3, \"Charlie\", 28),\n",
        "\t(4, \"John\", 56),\n",
        "\t(5, \"Alex\", 41),\n",
        "\t(6, \"Juliya\", 17)\n",
        "\n",
        "], [\"user_id\", \"name\", \"age\"])\n",
        "\n",
        "purchases_df = spark.createDataFrame([\n",
        "\t(1, 101, \"2022-01-01\"),\n",
        "\t(2, 102, \"2022-01-02\"),\n",
        "\t(3, 103, \"2022-01-03\"),\n",
        "\t(3, 104, \"2022-01-04\"),\n",
        "\t(6, 105, \"2022-01-05\")\n",
        "], [\"user_id\", \"product_id\", \"date\"])\n",
        "\n",
        "# Производим операцию join и вычисляем средний возраст\n",
        "result_df = users_df.join(purchases_df, \"user_id\").groupBy(\"user_id\").agg(avg(\"age\").alias(\"average_age\"))\n",
        "\n",
        "# Выводим результат\n",
        "result_df.show()"
      ]
    },
    {
      "cell_type": "code",
      "execution_count": 27,
      "metadata": {
        "id": "1YI3ox3LY3AS"
      },
      "outputs": [],
      "source": [
        "data1 = [(1, \"Alice\", 25),\n",
        "\t(2, \"Bob\", 30),\n",
        "\t(3, \"Charlie\", 28),\n",
        "\t(4, \"John\", 56),\n",
        "\t(5, \"Alex\", 41),\n",
        "\t(6, \"Juliya\", 17)\n",
        "]\n",
        "dx1 = pd.DataFrame(data1, columns = [\"user_id\", \"name\", \"age\"])\n",
        "\n",
        "\n",
        "data2 = [\t(1, 101, \"2022-01-01\"),\n",
        "\t(2, 102, \"2022-01-02\"),\n",
        "\t(3, 103, \"2022-01-03\"),\n",
        "\t(3, 104, \"2022-01-04\"),\n",
        "\t(6, 105, \"2022-01-05\")\n",
        "]\n",
        "\n",
        "dx2 = pd.DataFrame(data2, columns = [\"user_id\", \"product_id\", \"date\"])\n"
      ]
    },
    {
      "cell_type": "code",
      "execution_count": 28,
      "metadata": {
        "colab": {
          "base_uri": "https://localhost:8080/",
          "height": 269
        },
        "id": "hBrWh534ZAQx",
        "outputId": "663aca19-09aa-4f48-ad83-900e11d4cbfd"
      },
      "outputs": [
        {
          "data": {
            "text/html": [
              "<div>\n",
              "<style scoped>\n",
              "    .dataframe tbody tr th:only-of-type {\n",
              "        vertical-align: middle;\n",
              "    }\n",
              "\n",
              "    .dataframe tbody tr th {\n",
              "        vertical-align: top;\n",
              "    }\n",
              "\n",
              "    .dataframe thead th {\n",
              "        text-align: right;\n",
              "    }\n",
              "</style>\n",
              "<table border=\"1\" class=\"dataframe\">\n",
              "  <thead>\n",
              "    <tr style=\"text-align: right;\">\n",
              "      <th></th>\n",
              "      <th>user_id</th>\n",
              "      <th>name</th>\n",
              "      <th>age</th>\n",
              "      <th>product_id</th>\n",
              "      <th>date</th>\n",
              "    </tr>\n",
              "  </thead>\n",
              "  <tbody>\n",
              "    <tr>\n",
              "      <th>0</th>\n",
              "      <td>1</td>\n",
              "      <td>Alice</td>\n",
              "      <td>25</td>\n",
              "      <td>101.0</td>\n",
              "      <td>2022-01-01</td>\n",
              "    </tr>\n",
              "    <tr>\n",
              "      <th>1</th>\n",
              "      <td>2</td>\n",
              "      <td>Bob</td>\n",
              "      <td>30</td>\n",
              "      <td>102.0</td>\n",
              "      <td>2022-01-02</td>\n",
              "    </tr>\n",
              "    <tr>\n",
              "      <th>2</th>\n",
              "      <td>3</td>\n",
              "      <td>Charlie</td>\n",
              "      <td>28</td>\n",
              "      <td>103.0</td>\n",
              "      <td>2022-01-03</td>\n",
              "    </tr>\n",
              "    <tr>\n",
              "      <th>3</th>\n",
              "      <td>3</td>\n",
              "      <td>Charlie</td>\n",
              "      <td>28</td>\n",
              "      <td>104.0</td>\n",
              "      <td>2022-01-04</td>\n",
              "    </tr>\n",
              "    <tr>\n",
              "      <th>4</th>\n",
              "      <td>4</td>\n",
              "      <td>John</td>\n",
              "      <td>56</td>\n",
              "      <td>NaN</td>\n",
              "      <td>NaN</td>\n",
              "    </tr>\n",
              "    <tr>\n",
              "      <th>5</th>\n",
              "      <td>5</td>\n",
              "      <td>Alex</td>\n",
              "      <td>41</td>\n",
              "      <td>NaN</td>\n",
              "      <td>NaN</td>\n",
              "    </tr>\n",
              "    <tr>\n",
              "      <th>6</th>\n",
              "      <td>6</td>\n",
              "      <td>Juliya</td>\n",
              "      <td>17</td>\n",
              "      <td>105.0</td>\n",
              "      <td>2022-01-05</td>\n",
              "    </tr>\n",
              "  </tbody>\n",
              "</table>\n",
              "</div>"
            ],
            "text/plain": [
              "   user_id     name  age  product_id        date\n",
              "0        1    Alice   25       101.0  2022-01-01\n",
              "1        2      Bob   30       102.0  2022-01-02\n",
              "2        3  Charlie   28       103.0  2022-01-03\n",
              "3        3  Charlie   28       104.0  2022-01-04\n",
              "4        4     John   56         NaN         NaN\n",
              "5        5     Alex   41         NaN         NaN\n",
              "6        6   Juliya   17       105.0  2022-01-05"
            ]
          },
          "execution_count": 28,
          "metadata": {},
          "output_type": "execute_result"
        }
      ],
      "source": [
        "dx3 = dx1.merge(dx2, how='left', on='user_id')\n",
        "dx3"
      ]
    },
    {
      "cell_type": "code",
      "execution_count": 29,
      "metadata": {
        "colab": {
          "base_uri": "https://localhost:8080/",
          "height": 206
        },
        "id": "sccMS1RpZATD",
        "outputId": "86f709bd-e162-4d22-f910-f06e63a729df"
      },
      "outputs": [
        {
          "data": {
            "text/html": [
              "<div>\n",
              "<style scoped>\n",
              "    .dataframe tbody tr th:only-of-type {\n",
              "        vertical-align: middle;\n",
              "    }\n",
              "\n",
              "    .dataframe tbody tr th {\n",
              "        vertical-align: top;\n",
              "    }\n",
              "\n",
              "    .dataframe thead th {\n",
              "        text-align: right;\n",
              "    }\n",
              "</style>\n",
              "<table border=\"1\" class=\"dataframe\">\n",
              "  <thead>\n",
              "    <tr style=\"text-align: right;\">\n",
              "      <th></th>\n",
              "      <th>age</th>\n",
              "    </tr>\n",
              "    <tr>\n",
              "      <th>user_id</th>\n",
              "      <th></th>\n",
              "    </tr>\n",
              "  </thead>\n",
              "  <tbody>\n",
              "    <tr>\n",
              "      <th>1</th>\n",
              "      <td>25.0</td>\n",
              "    </tr>\n",
              "    <tr>\n",
              "      <th>2</th>\n",
              "      <td>30.0</td>\n",
              "    </tr>\n",
              "    <tr>\n",
              "      <th>3</th>\n",
              "      <td>28.0</td>\n",
              "    </tr>\n",
              "    <tr>\n",
              "      <th>6</th>\n",
              "      <td>17.0</td>\n",
              "    </tr>\n",
              "  </tbody>\n",
              "</table>\n",
              "</div>"
            ],
            "text/plain": [
              "          age\n",
              "user_id      \n",
              "1        25.0\n",
              "2        30.0\n",
              "3        28.0\n",
              "6        17.0"
            ]
          },
          "execution_count": 29,
          "metadata": {},
          "output_type": "execute_result"
        }
      ],
      "source": [
        "dx4 = dx3[~dx3['product_id'].isna()].groupby([\"user_id\"]).agg({'age':'mean'})\n",
        "dx4"
      ]
    },
    {
      "cell_type": "code",
      "execution_count": null,
      "metadata": {
        "id": "_biaMGq8ZAVa"
      },
      "outputs": [],
      "source": []
    },
    {
      "cell_type": "markdown",
      "metadata": {
        "id": "Xl7gn6SlaECs"
      },
      "source": [
        "### Задание 9: У вас есть два набора данных. Первый набор содержит информацию о продуктах: id продукта, название, категория и цена. Второй набор содержит информацию о заказах: id заказа, id продукта, количество. Ваша задача — использовать PySpark для выполнения следующих шагов:\n",
        "\n",
        "1. Присоединить набор данных о продуктах к набору данных о заказах с помощью id продукта.\n",
        "3. Рассчитать общую стоимость каждого заказа, учитывая количество продуктов и их цену.\n",
        "4. Отфильтровать заказы, у которых общая стоимость больше 50."
      ]
    },
    {
      "cell_type": "markdown",
      "metadata": {
        "id": "JEDkVCHzgRvq"
      },
      "source": [
        "1. Инициализируем сессию Spark с именем приложения \"aggregate-join-filter\".\n",
        "\n",
        "2. Создаем два DataFrame (`products_df` и `orders_df`) из предопределенных списков кортежей, представляющих данные о продуктах и заказах соответственно.\n",
        "\n",
        "3. Присоединяем DataFrame `orders_df` к DataFrame `products_df` по столбцу \"product_id\", используя внутреннее соединение (inner join) по умолчанию.\n",
        "\n",
        "4. Добавляем новый столбец \"total_cost\" в DataFrame `joined_df`, вычисляя общую стоимость каждого заказа как произведение количества товара на цену товара.\n",
        "\n",
        "5. Отфильтровываем заказы, у которых общая стоимость больше 50, и сохраняет результат в DataFrame `filtered_orders_df`.\n",
        "\n",
        "6. Выводим результаты фильтрации на экран."
      ]
    },
    {
      "cell_type": "code",
      "execution_count": 30,
      "metadata": {
        "colab": {
          "base_uri": "https://localhost:8080/"
        },
        "id": "aTdFqARAaMHl",
        "outputId": "7eceb01a-ea74-430b-b43f-40ab42f6094e"
      },
      "outputs": [
        {
          "name": "stderr",
          "output_type": "stream",
          "text": [
            "24/07/26 15:23:53 WARN SparkSession: Using an existing Spark session; only runtime SQL configurations will take effect.\n"
          ]
        },
        {
          "name": "stdout",
          "output_type": "stream",
          "text": [
            "+----------+--------+--------+--------+---------+-----+----------+\n",
            "|product_id|order_id|quantity|   title| category|price|total_cost|\n",
            "+----------+--------+--------+--------+---------+-----+----------+\n",
            "|         4|       5|       4|product4|category3| 20.0|      80.0|\n",
            "|         6|       7|       3|product6|category3| 25.0|      75.0|\n",
            "|         9|      10|       4|product9|category3| 22.0|      88.0|\n",
            "+----------+--------+--------+--------+---------+-----+----------+\n",
            "\n"
          ]
        }
      ],
      "source": [
        "# Создание сессии Spark\n",
        "spark = SparkSession.builder.appName(\"aggregate-join-filter\").getOrCreate()\n",
        "\n",
        "# Чтение наборов данных из CSV файлов\n",
        "data_produсts = [(1, \"product1\", \"category1\", 10.0),\n",
        "                (2, \"product2\", \"category2\", 15.0),\n",
        "                (3, \"product3\", \"category1\", 12.5),\n",
        "                (4, \"product4\", \"category3\", 20.0),\n",
        "                (5, \"product5\", \"category2\", 18.0),\n",
        "                (6, \"product6\", \"category3\", 25.0),\n",
        "                (7, \"product7\", \"category1\", 9.0),\n",
        "                (8, \"product8\", \"category2\", 16.0),\n",
        "                (9, \"product9\", \"category3\", 22.0),\n",
        "                (10, \"product10\", \"category1\", 11.5)]\n",
        "\n",
        "products_df = spark.createDataFrame(data_produсts, [\"product_id\", \"title\", \"category\", \"price\"])\n",
        "\n",
        "data_orders = [(1, 1, 5),\n",
        "               (2, 3, 2),\n",
        "               (3, 2, 3),\n",
        "               (4, 5, 1),\n",
        "               (5, 4, 4),\n",
        "               (6, 7, 2),\n",
        "               (7, 6, 3),\n",
        "               (8, 8, 2),\n",
        "               (9, 10, 1),\n",
        "               (10, 9, 4)]\n",
        "\n",
        "orders_df = spark.createDataFrame(data_orders, [\"order_id\", \"product_id\", \"quantity\"])\n",
        "\n",
        "# Присоединение набора данных о продуктах к набору данных о заказах\n",
        "joined_df = orders_df.join(products_df, \"product_id\")\n",
        "\n",
        "# Расчет общей стоимости каждого заказа\n",
        "total_cost_df = joined_df.withColumn(\"total_cost\", F.col(\"quantity\") * F.col(\"price\"))\n",
        "\n",
        "# Отфильтрование заказов с общей стоимостью больше 50\n",
        "filtered_orders_df = total_cost_df.filter(total_cost_df.total_cost > 50)\n",
        "\n",
        "# Вывод результата\n",
        "filtered_orders_df.show()"
      ]
    },
    {
      "cell_type": "code",
      "execution_count": 31,
      "metadata": {
        "colab": {
          "base_uri": "https://localhost:8080/"
        },
        "id": "NW9R39ArpUPa",
        "outputId": "f614ff2e-4ada-4420-96ed-813d7a73579c"
      },
      "outputs": [
        {
          "name": "stdout",
          "output_type": "stream",
          "text": [
            "+----------+--------+--------+---------+---------+-----+\n",
            "|product_id|order_id|quantity|    title| category|price|\n",
            "+----------+--------+--------+---------+---------+-----+\n",
            "|         1|       1|       5| product1|category1| 10.0|\n",
            "|         2|       3|       3| product2|category2| 15.0|\n",
            "|         3|       2|       2| product3|category1| 12.5|\n",
            "|         4|       5|       4| product4|category3| 20.0|\n",
            "|         5|       4|       1| product5|category2| 18.0|\n",
            "|         6|       7|       3| product6|category3| 25.0|\n",
            "|         7|       6|       2| product7|category1|  9.0|\n",
            "|         8|       8|       2| product8|category2| 16.0|\n",
            "|         9|      10|       4| product9|category3| 22.0|\n",
            "|        10|       9|       1|product10|category1| 11.5|\n",
            "+----------+--------+--------+---------+---------+-----+\n",
            "\n"
          ]
        }
      ],
      "source": [
        "joined_df.show()"
      ]
    },
    {
      "cell_type": "code",
      "execution_count": 32,
      "metadata": {
        "colab": {
          "base_uri": "https://localhost:8080/"
        },
        "id": "o5wg4_IWpGSM",
        "outputId": "306618ea-99c9-42c8-a536-88d32bca9fb5"
      },
      "outputs": [
        {
          "name": "stdout",
          "output_type": "stream",
          "text": [
            "+----------+--------+--------+---------+---------+-----+----------+\n",
            "|product_id|order_id|quantity|    title| category|price|total_cost|\n",
            "+----------+--------+--------+---------+---------+-----+----------+\n",
            "|         1|       1|       5| product1|category1| 10.0|      50.0|\n",
            "|         2|       3|       3| product2|category2| 15.0|      45.0|\n",
            "|         3|       2|       2| product3|category1| 12.5|      25.0|\n",
            "|         4|       5|       4| product4|category3| 20.0|      80.0|\n",
            "|         5|       4|       1| product5|category2| 18.0|      18.0|\n",
            "|         6|       7|       3| product6|category3| 25.0|      75.0|\n",
            "|         7|       6|       2| product7|category1|  9.0|      18.0|\n",
            "|         8|       8|       2| product8|category2| 16.0|      32.0|\n",
            "|         9|      10|       4| product9|category3| 22.0|      88.0|\n",
            "|        10|       9|       1|product10|category1| 11.5|      11.5|\n",
            "+----------+--------+--------+---------+---------+-----+----------+\n",
            "\n"
          ]
        }
      ],
      "source": [
        "total_cost_df.show()"
      ]
    },
    {
      "cell_type": "markdown",
      "metadata": {
        "id": "vzvtUy16aTR2"
      },
      "source": [
        "### Задание 10: Найти сумму чисел в колонке\n"
      ]
    },
    {
      "cell_type": "markdown",
      "metadata": {
        "id": "opFKR8vfgck2"
      },
      "source": [
        "1. Создаем сессию Spark с именем приложения \"sum_example\".\n",
        "2. Создаем DataFrame с одним столбцом \"number\", содержащим числа от 1 до 4.\n",
        "3. Вычисляем сумму всех чисел в столбце \"number\" и выводит результат.\n",
        "\n",
        "Код использует функцию `sum` из модуля `pyspark.sql.functions`, которая является агрегатной функцией и возвращает сумму всех значений в указанном столбце. В данном случае, она применяется к столбцу \"number\" DataFrame `df` для вычисления общей суммы чисел в этом столбце. Результат вычисления суммы затем отображается с помощью метода `show()`."
      ]
    },
    {
      "cell_type": "code",
      "execution_count": 33,
      "metadata": {
        "colab": {
          "base_uri": "https://localhost:8080/"
        },
        "id": "0FSAMl7zaVh8",
        "outputId": "efef7a55-b229-4217-de37-8a6372c151ba"
      },
      "outputs": [
        {
          "name": "stdout",
          "output_type": "stream",
          "text": [
            "+-----------+\n",
            "|sum(number)|\n",
            "+-----------+\n",
            "|         10|\n",
            "+-----------+\n",
            "\n"
          ]
        },
        {
          "name": "stderr",
          "output_type": "stream",
          "text": [
            "24/07/26 15:24:02 WARN SparkSession: Using an existing Spark session; only runtime SQL configurations will take effect.\n"
          ]
        }
      ],
      "source": [
        "# Создание Spark сессии\n",
        "spark = SparkSession.builder.appName(\"sum_example\").getOrCreate()\n",
        "\n",
        "# Создание DataFrame\n",
        "data = [(1,), (2,), (3,), (4,)]\n",
        "df = spark.createDataFrame(data, [\"number\"])\n",
        "\n",
        "# Найти сумму чисел в колонке \"number\"\n",
        "sum_result = df.select(sum(\"number\")).show()"
      ]
    },
    {
      "cell_type": "markdown",
      "metadata": {
        "id": "OIr0GdK0aZai"
      },
      "source": [
        "### Задание 11: Посчитать количество уникальных значений в колонке\n"
      ]
    },
    {
      "cell_type": "markdown",
      "metadata": {
        "id": "D3APjuShgkTe"
      },
      "source": [
        "1. Импортируем необходимые модули из библиотеки PySpark для работы с Spark и функцией `countDistinct` для подсчета уникальных значений в DataFrame.\n",
        "2. Создаем экземпляр SparkSession с именем приложения \"count_distinct_example\". Это необходимо для инициализации Spark и подготовки среды для выполнения операций с данными.\n",
        "3. Создаем DataFrame с именем `df`, используя предоставленные данные. В данном случае, DataFrame содержит одну колонку \"name\" с именами \"Alice\", \"Bob\", \"Alice\" и \"Eve\".\n",
        "4. Выполняем подсчет количества уникальных значений в колонке \"name\" с помощью функции `countDistinct` и выводит результат на экран с помощью метода `show()`.\n",
        "\n",
        "В результате выполнения кода будет выведено количество уникальных имен в колонке \"name\", что в данном случае равно 3, так как имена \"Alice\" и \"Bob\" встречаются дважды, а \"Eve\" - один раз."
      ]
    },
    {
      "cell_type": "code",
      "execution_count": 34,
      "metadata": {
        "colab": {
          "base_uri": "https://localhost:8080/"
        },
        "id": "tThczq14aXrt",
        "outputId": "445edf3d-d787-4e6f-8c98-bf8e63fc9d3a"
      },
      "outputs": [
        {
          "name": "stderr",
          "output_type": "stream",
          "text": [
            "24/07/26 15:24:05 WARN SparkSession: Using an existing Spark session; only runtime SQL configurations will take effect.\n"
          ]
        },
        {
          "name": "stdout",
          "output_type": "stream",
          "text": [
            "+--------------------+\n",
            "|count(DISTINCT name)|\n",
            "+--------------------+\n",
            "|                   3|\n",
            "+--------------------+\n",
            "\n"
          ]
        }
      ],
      "source": [
        "# Создание Spark сессии\n",
        "spark = SparkSession.builder.appName(\"count_distinct_example\").getOrCreate()\n",
        "\n",
        "# Создание DataFrame\n",
        "data = [(\"Alice\",), (\"Bob\",), (\"Alice\",), (\"Eve\",)]\n",
        "df = spark.createDataFrame(data, [\"name\"])\n",
        "\n",
        "# Посчитать количество уникальных значений в колонке \"name\"\n",
        "count_result = df.select(countDistinct(\"name\")).show()"
      ]
    },
    {
      "cell_type": "markdown",
      "metadata": {
        "id": "1RVVb3Fmafx5"
      },
      "source": [
        "### Задание 12: Выполнить фильтрацию данных по определенному условию\n"
      ]
    },
    {
      "cell_type": "markdown",
      "metadata": {
        "id": "Zq9d0WFdgrqj"
      },
      "source": [
        "Данный код выполняет следующие действия:\n",
        "\n",
        "1. Импортируем класс `SparkSession` из модуля `pyspark.sql`, который необходим для создания сессии Spark.\n",
        "2. Создаем сессию Spark с именем приложения \"filter_example\".\n",
        "3. Создаем список кортежей `data`, содержащий пары имя-возраст.\n",
        "4. Создаем DataFrame `df` из списка `data`, указывая имена столбцов как \"name\" и \"age\".\n",
        "5. Фильтруем данные в DataFrame `df`, оставляя только те строки, где возраст меньше 30, и выводит результат на экран с помощью метода `show()`.\n",
        "\n",
        "Важно отметить, что метод `filter()` используется для фильтрации строк в DataFrame на основе заданного условия. В данном случае, условием является `df.age < 30`, что означает выборку строк, где значение в столбце \"age\" меньше 30. Результатом выполнения этого кода будет отображение на экране строк DataFrame, соответствующих этому условию."
      ]
    },
    {
      "cell_type": "code",
      "execution_count": 35,
      "metadata": {
        "colab": {
          "base_uri": "https://localhost:8080/"
        },
        "id": "7SC9wv6nah3i",
        "outputId": "f08d5ddd-ecc6-4f59-ac32-352982451b96"
      },
      "outputs": [
        {
          "name": "stderr",
          "output_type": "stream",
          "text": [
            "24/07/26 15:24:08 WARN SparkSession: Using an existing Spark session; only runtime SQL configurations will take effect.\n"
          ]
        },
        {
          "name": "stdout",
          "output_type": "stream",
          "text": [
            "+-----+---+\n",
            "| name|age|\n",
            "+-----+---+\n",
            "|Alice| 25|\n",
            "|  Eve| 20|\n",
            "+-----+---+\n",
            "\n"
          ]
        }
      ],
      "source": [
        " # Создание Spark сессии\n",
        "spark = SparkSession.builder.appName(\"filter_example\").getOrCreate()\n",
        "\n",
        "# Создание DataFrame\n",
        "data = [(\"Alice\", 25), (\"Bob\", 30), (\"Eve\", 20), (\"Charlie\", 35)]\n",
        "df = spark.createDataFrame(data, [\"name\", \"age\"])\n",
        "\n",
        "# Выполнить фильтрацию данных по возрасту младше 30\n",
        "filtered_data = df.filter(df.age < 30).show()"
      ]
    },
    {
      "cell_type": "markdown",
      "metadata": {
        "id": "6OAOCIkSamLp"
      },
      "source": [
        "### Домашнее задание\n",
        "\n",
        "### Условие: дана таблица с колонками (id, name, salary, managerId), студентам необходимо написать код на spark, который создаст эту таблицу (данные указаны ниже) и в результате выдаст таблицу в которой будут имена сотрудников, которые зарабатывают больше своих менеджеров.\n",
        "\n",
        "Данные для таблицы:\n"
      ]
    },
    {
      "cell_type": "code",
      "execution_count": null,
      "metadata": {
        "colab": {
          "base_uri": "https://localhost:8080/",
          "height": 175
        },
        "id": "jU_wRNHbappb",
        "outputId": "4d15740a-47e0-485f-d5eb-28eeda130f66"
      },
      "outputs": [
        {
          "data": {
            "application/vnd.google.colaboratory.intrinsic+json": {
              "summary": "{\n  \"name\": \"df\",\n  \"rows\": 4,\n  \"fields\": [\n    {\n      \"column\": \"id\",\n      \"properties\": {\n        \"dtype\": \"number\",\n        \"std\": 1,\n        \"min\": 1,\n        \"max\": 4,\n        \"num_unique_values\": 4,\n        \"samples\": [\n          2,\n          4,\n          1\n        ],\n        \"semantic_type\": \"\",\n        \"description\": \"\"\n      }\n    },\n    {\n      \"column\": \"Name\",\n      \"properties\": {\n        \"dtype\": \"string\",\n        \"num_unique_values\": 4,\n        \"samples\": [\n          \"Henry\",\n          \"Max\",\n          \"Joe\"\n        ],\n        \"semantic_type\": \"\",\n        \"description\": \"\"\n      }\n    },\n    {\n      \"column\": \"Salary\",\n      \"properties\": {\n        \"dtype\": \"string\",\n        \"num_unique_values\": 4,\n        \"samples\": [\n          \"80\",\n          \"90\",\n          \"70\"\n        ],\n        \"semantic_type\": \"\",\n        \"description\": \"\"\n      }\n    },\n    {\n      \"column\": \"ManagerId\",\n      \"properties\": {\n        \"dtype\": \"string\",\n        \"num_unique_values\": 3,\n        \"samples\": [\n          \"3\",\n          \"4\",\n          \"Null\"\n        ],\n        \"semantic_type\": \"\",\n        \"description\": \"\"\n      }\n    }\n  ]\n}",
              "type": "dataframe",
              "variable_name": "df"
            },
            "text/html": [
              "\n",
              "  <div id=\"df-4a9c1b17-c867-4665-8bcf-21d2c6a8ed4f\" class=\"colab-df-container\">\n",
              "    <div>\n",
              "<style scoped>\n",
              "    .dataframe tbody tr th:only-of-type {\n",
              "        vertical-align: middle;\n",
              "    }\n",
              "\n",
              "    .dataframe tbody tr th {\n",
              "        vertical-align: top;\n",
              "    }\n",
              "\n",
              "    .dataframe thead th {\n",
              "        text-align: right;\n",
              "    }\n",
              "</style>\n",
              "<table border=\"1\" class=\"dataframe\">\n",
              "  <thead>\n",
              "    <tr style=\"text-align: right;\">\n",
              "      <th></th>\n",
              "      <th>id</th>\n",
              "      <th>Name</th>\n",
              "      <th>Salary</th>\n",
              "      <th>ManagerId</th>\n",
              "    </tr>\n",
              "  </thead>\n",
              "  <tbody>\n",
              "    <tr>\n",
              "      <th>0</th>\n",
              "      <td>1</td>\n",
              "      <td>Joe</td>\n",
              "      <td>70</td>\n",
              "      <td>3</td>\n",
              "    </tr>\n",
              "    <tr>\n",
              "      <th>1</th>\n",
              "      <td>2</td>\n",
              "      <td>Henry</td>\n",
              "      <td>80</td>\n",
              "      <td>4</td>\n",
              "    </tr>\n",
              "    <tr>\n",
              "      <th>2</th>\n",
              "      <td>3</td>\n",
              "      <td>Sam</td>\n",
              "      <td>60</td>\n",
              "      <td>Null</td>\n",
              "    </tr>\n",
              "    <tr>\n",
              "      <th>3</th>\n",
              "      <td>4</td>\n",
              "      <td>Max</td>\n",
              "      <td>90</td>\n",
              "      <td>Null</td>\n",
              "    </tr>\n",
              "  </tbody>\n",
              "</table>\n",
              "</div>\n",
              "    <div class=\"colab-df-buttons\">\n",
              "\n",
              "  <div class=\"colab-df-container\">\n",
              "    <button class=\"colab-df-convert\" onclick=\"convertToInteractive('df-4a9c1b17-c867-4665-8bcf-21d2c6a8ed4f')\"\n",
              "            title=\"Convert this dataframe to an interactive table.\"\n",
              "            style=\"display:none;\">\n",
              "\n",
              "  <svg xmlns=\"http://www.w3.org/2000/svg\" height=\"24px\" viewBox=\"0 -960 960 960\">\n",
              "    <path d=\"M120-120v-720h720v720H120Zm60-500h600v-160H180v160Zm220 220h160v-160H400v160Zm0 220h160v-160H400v160ZM180-400h160v-160H180v160Zm440 0h160v-160H620v160ZM180-180h160v-160H180v160Zm440 0h160v-160H620v160Z\"/>\n",
              "  </svg>\n",
              "    </button>\n",
              "\n",
              "  <style>\n",
              "    .colab-df-container {\n",
              "      display:flex;\n",
              "      gap: 12px;\n",
              "    }\n",
              "\n",
              "    .colab-df-convert {\n",
              "      background-color: #E8F0FE;\n",
              "      border: none;\n",
              "      border-radius: 50%;\n",
              "      cursor: pointer;\n",
              "      display: none;\n",
              "      fill: #1967D2;\n",
              "      height: 32px;\n",
              "      padding: 0 0 0 0;\n",
              "      width: 32px;\n",
              "    }\n",
              "\n",
              "    .colab-df-convert:hover {\n",
              "      background-color: #E2EBFA;\n",
              "      box-shadow: 0px 1px 2px rgba(60, 64, 67, 0.3), 0px 1px 3px 1px rgba(60, 64, 67, 0.15);\n",
              "      fill: #174EA6;\n",
              "    }\n",
              "\n",
              "    .colab-df-buttons div {\n",
              "      margin-bottom: 4px;\n",
              "    }\n",
              "\n",
              "    [theme=dark] .colab-df-convert {\n",
              "      background-color: #3B4455;\n",
              "      fill: #D2E3FC;\n",
              "    }\n",
              "\n",
              "    [theme=dark] .colab-df-convert:hover {\n",
              "      background-color: #434B5C;\n",
              "      box-shadow: 0px 1px 3px 1px rgba(0, 0, 0, 0.15);\n",
              "      filter: drop-shadow(0px 1px 2px rgba(0, 0, 0, 0.3));\n",
              "      fill: #FFFFFF;\n",
              "    }\n",
              "  </style>\n",
              "\n",
              "    <script>\n",
              "      const buttonEl =\n",
              "        document.querySelector('#df-4a9c1b17-c867-4665-8bcf-21d2c6a8ed4f button.colab-df-convert');\n",
              "      buttonEl.style.display =\n",
              "        google.colab.kernel.accessAllowed ? 'block' : 'none';\n",
              "\n",
              "      async function convertToInteractive(key) {\n",
              "        const element = document.querySelector('#df-4a9c1b17-c867-4665-8bcf-21d2c6a8ed4f');\n",
              "        const dataTable =\n",
              "          await google.colab.kernel.invokeFunction('convertToInteractive',\n",
              "                                                    [key], {});\n",
              "        if (!dataTable) return;\n",
              "\n",
              "        const docLinkHtml = 'Like what you see? Visit the ' +\n",
              "          '<a target=\"_blank\" href=https://colab.research.google.com/notebooks/data_table.ipynb>data table notebook</a>'\n",
              "          + ' to learn more about interactive tables.';\n",
              "        element.innerHTML = '';\n",
              "        dataTable['output_type'] = 'display_data';\n",
              "        await google.colab.output.renderOutput(dataTable, element);\n",
              "        const docLink = document.createElement('div');\n",
              "        docLink.innerHTML = docLinkHtml;\n",
              "        element.appendChild(docLink);\n",
              "      }\n",
              "    </script>\n",
              "  </div>\n",
              "\n",
              "\n",
              "<div id=\"df-5e6f3206-190e-4a59-b3e9-10d3f1920f4a\">\n",
              "  <button class=\"colab-df-quickchart\" onclick=\"quickchart('df-5e6f3206-190e-4a59-b3e9-10d3f1920f4a')\"\n",
              "            title=\"Suggest charts\"\n",
              "            style=\"display:none;\">\n",
              "\n",
              "<svg xmlns=\"http://www.w3.org/2000/svg\" height=\"24px\"viewBox=\"0 0 24 24\"\n",
              "     width=\"24px\">\n",
              "    <g>\n",
              "        <path d=\"M19 3H5c-1.1 0-2 .9-2 2v14c0 1.1.9 2 2 2h14c1.1 0 2-.9 2-2V5c0-1.1-.9-2-2-2zM9 17H7v-7h2v7zm4 0h-2V7h2v10zm4 0h-2v-4h2v4z\"/>\n",
              "    </g>\n",
              "</svg>\n",
              "  </button>\n",
              "\n",
              "<style>\n",
              "  .colab-df-quickchart {\n",
              "      --bg-color: #E8F0FE;\n",
              "      --fill-color: #1967D2;\n",
              "      --hover-bg-color: #E2EBFA;\n",
              "      --hover-fill-color: #174EA6;\n",
              "      --disabled-fill-color: #AAA;\n",
              "      --disabled-bg-color: #DDD;\n",
              "  }\n",
              "\n",
              "  [theme=dark] .colab-df-quickchart {\n",
              "      --bg-color: #3B4455;\n",
              "      --fill-color: #D2E3FC;\n",
              "      --hover-bg-color: #434B5C;\n",
              "      --hover-fill-color: #FFFFFF;\n",
              "      --disabled-bg-color: #3B4455;\n",
              "      --disabled-fill-color: #666;\n",
              "  }\n",
              "\n",
              "  .colab-df-quickchart {\n",
              "    background-color: var(--bg-color);\n",
              "    border: none;\n",
              "    border-radius: 50%;\n",
              "    cursor: pointer;\n",
              "    display: none;\n",
              "    fill: var(--fill-color);\n",
              "    height: 32px;\n",
              "    padding: 0;\n",
              "    width: 32px;\n",
              "  }\n",
              "\n",
              "  .colab-df-quickchart:hover {\n",
              "    background-color: var(--hover-bg-color);\n",
              "    box-shadow: 0 1px 2px rgba(60, 64, 67, 0.3), 0 1px 3px 1px rgba(60, 64, 67, 0.15);\n",
              "    fill: var(--button-hover-fill-color);\n",
              "  }\n",
              "\n",
              "  .colab-df-quickchart-complete:disabled,\n",
              "  .colab-df-quickchart-complete:disabled:hover {\n",
              "    background-color: var(--disabled-bg-color);\n",
              "    fill: var(--disabled-fill-color);\n",
              "    box-shadow: none;\n",
              "  }\n",
              "\n",
              "  .colab-df-spinner {\n",
              "    border: 2px solid var(--fill-color);\n",
              "    border-color: transparent;\n",
              "    border-bottom-color: var(--fill-color);\n",
              "    animation:\n",
              "      spin 1s steps(1) infinite;\n",
              "  }\n",
              "\n",
              "  @keyframes spin {\n",
              "    0% {\n",
              "      border-color: transparent;\n",
              "      border-bottom-color: var(--fill-color);\n",
              "      border-left-color: var(--fill-color);\n",
              "    }\n",
              "    20% {\n",
              "      border-color: transparent;\n",
              "      border-left-color: var(--fill-color);\n",
              "      border-top-color: var(--fill-color);\n",
              "    }\n",
              "    30% {\n",
              "      border-color: transparent;\n",
              "      border-left-color: var(--fill-color);\n",
              "      border-top-color: var(--fill-color);\n",
              "      border-right-color: var(--fill-color);\n",
              "    }\n",
              "    40% {\n",
              "      border-color: transparent;\n",
              "      border-right-color: var(--fill-color);\n",
              "      border-top-color: var(--fill-color);\n",
              "    }\n",
              "    60% {\n",
              "      border-color: transparent;\n",
              "      border-right-color: var(--fill-color);\n",
              "    }\n",
              "    80% {\n",
              "      border-color: transparent;\n",
              "      border-right-color: var(--fill-color);\n",
              "      border-bottom-color: var(--fill-color);\n",
              "    }\n",
              "    90% {\n",
              "      border-color: transparent;\n",
              "      border-bottom-color: var(--fill-color);\n",
              "    }\n",
              "  }\n",
              "</style>\n",
              "\n",
              "  <script>\n",
              "    async function quickchart(key) {\n",
              "      const quickchartButtonEl =\n",
              "        document.querySelector('#' + key + ' button');\n",
              "      quickchartButtonEl.disabled = true;  // To prevent multiple clicks.\n",
              "      quickchartButtonEl.classList.add('colab-df-spinner');\n",
              "      try {\n",
              "        const charts = await google.colab.kernel.invokeFunction(\n",
              "            'suggestCharts', [key], {});\n",
              "      } catch (error) {\n",
              "        console.error('Error during call to suggestCharts:', error);\n",
              "      }\n",
              "      quickchartButtonEl.classList.remove('colab-df-spinner');\n",
              "      quickchartButtonEl.classList.add('colab-df-quickchart-complete');\n",
              "    }\n",
              "    (() => {\n",
              "      let quickchartButtonEl =\n",
              "        document.querySelector('#df-5e6f3206-190e-4a59-b3e9-10d3f1920f4a button');\n",
              "      quickchartButtonEl.style.display =\n",
              "        google.colab.kernel.accessAllowed ? 'block' : 'none';\n",
              "    })();\n",
              "  </script>\n",
              "</div>\n",
              "    </div>\n",
              "  </div>\n"
            ],
            "text/plain": [
              "   id   Name Salary ManagerId\n",
              "0   1    Joe     70         3\n",
              "1   2  Henry     80         4\n",
              "2   3    Sam     60      Null\n",
              "3   4    Max     90      Null"
            ]
          },
          "execution_count": 5,
          "metadata": {},
          "output_type": "execute_result"
        }
      ],
      "source": [
        "data = {'id': [1, 2, 3, 4], 'Name': ['Joe', 'Henry', 'Sam', 'Max'],\n",
        "        'Salary':['70', '80', '60', '90'], 'ManagerId':['3', '4', 'Null', 'Null']}\n",
        "df = pd.DataFrame(data)\n",
        "df"
      ]
    },
    {
      "cell_type": "markdown",
      "metadata": {
        "id": "kI8uR6Xpb7XI"
      },
      "source": [
        "Результат должен быть:\n",
        "Joe (табличка с одной строкой и одним столбцом со значением Joe)\n"
      ]
    },
    {
      "cell_type": "code",
      "execution_count": null,
      "metadata": {
        "id": "dG-0gx19udx4"
      },
      "outputs": [],
      "source": []
    },
    {
      "cell_type": "code",
      "execution_count": null,
      "metadata": {
        "id": "MuWbWBQmw1bs"
      },
      "outputs": [],
      "source": []
    },
    {
      "cell_type": "code",
      "execution_count": null,
      "metadata": {
        "id": "z01PbMw7w1eE"
      },
      "outputs": [],
      "source": []
    },
    {
      "cell_type": "code",
      "execution_count": null,
      "metadata": {
        "id": "2NaGboAbw1gC"
      },
      "outputs": [],
      "source": [
        "# Решение"
      ]
    },
    {
      "cell_type": "code",
      "execution_count": null,
      "metadata": {
        "colab": {
          "base_uri": "https://localhost:8080/"
        },
        "id": "KF6NA5snud0m",
        "outputId": "21bd4bf6-65b3-440c-99df-7cca85381144"
      },
      "outputs": [
        {
          "name": "stdout",
          "output_type": "stream",
          "text": [
            "+---+-----+------+---------+\n",
            "| Id| name|Salary|managerId|\n",
            "+---+-----+------+---------+\n",
            "|  1|  Joe|    70|        3|\n",
            "|  2|Henry|    80|        4|\n",
            "|  3|  Sam|    60|     NULL|\n",
            "|  4|  Max|    90|     NULL|\n",
            "+---+-----+------+---------+\n",
            "\n"
          ]
        }
      ],
      "source": [
        "# Импортируем модуль Apache Spark - Spark SQL\n",
        "from pyspark.sql import SparkSession\n",
        "from pyspark.sql.functions import col\n",
        "\n",
        "# Создаем (инициализируем) SparkSession\n",
        "spark = SparkSession.builder.appName(\"EmployeeSalaryComparison\").getOrCreate()\n",
        "\n",
        "#  Составляем data - лист из кортежей элементов таблицы\n",
        "data = [(1, \"Joe\", 70, 3),\n",
        "        (2, \"Henry\", 80, 4),\n",
        "        (3, \"Sam\", 60, None),\n",
        "        (4, \"Max\", 90, None)]\n",
        "\n",
        "# Создаем DataFrame\n",
        "df = spark.createDataFrame(data, [\"Id\", \"name\", \"Salary\", \"managerId\"])\n",
        "\n",
        "# Выводим созданную таблицу\n",
        "df.show()"
      ]
    },
    {
      "cell_type": "code",
      "execution_count": null,
      "metadata": {
        "colab": {
          "base_uri": "https://localhost:8080/"
        },
        "id": "BJYWhDGvwgta",
        "outputId": "9f7730da-ff8d-4f7f-ba43-3a90668f6903"
      },
      "outputs": [
        {
          "name": "stdout",
          "output_type": "stream",
          "text": [
            "+---+-----+------+---------+---+----+------+---------+\n",
            "| Id| name|Salary|managerId| Id|name|Salary|managerId|\n",
            "+---+-----+------+---------+---+----+------+---------+\n",
            "|  1|  Joe|    70|        3|  3| Sam|    60|     NULL|\n",
            "|  2|Henry|    80|        4|  4| Max|    90|     NULL|\n",
            "+---+-----+------+---------+---+----+------+---------+\n",
            "\n"
          ]
        }
      ],
      "source": [
        "# Присоединение DataFrame к самому себе для сопоставления сотрудников с их менеджерами\n",
        "joined_df = df.alias(\"emp\").join(df.alias(\"mgr\"), col(\"emp.managerId\") == col(\"mgr.id\"))\n",
        "\n",
        "joined_df.show()"
      ]
    },
    {
      "cell_type": "code",
      "execution_count": null,
      "metadata": {
        "colab": {
          "base_uri": "https://localhost:8080/"
        },
        "id": "PjE4yFlowqQi",
        "outputId": "dda8297a-2eb2-4b9d-c907-464d80f1b13d"
      },
      "outputs": [
        {
          "name": "stdout",
          "output_type": "stream",
          "text": [
            "+----+\n",
            "|name|\n",
            "+----+\n",
            "| Joe|\n",
            "+----+\n",
            "\n"
          ]
        }
      ],
      "source": [
        "# Фильтрация данных, чтобы выбрать сотрудников, которые зарабатывают больше своих менеджеров\n",
        "result_df = joined_df.filter(col(\"emp.salary\") > col(\"mgr.salary\")).select(col(\"emp.name\"))\n",
        "\n",
        "result_df.show()"
      ]
    },
    {
      "cell_type": "code",
      "execution_count": null,
      "metadata": {
        "id": "JoxIuQzDwxKT"
      },
      "outputs": [],
      "source": []
    }
  ],
  "metadata": {
    "colab": {
      "provenance": []
    },
    "kernelspec": {
      "display_name": "Python 3",
      "name": "python3"
    },
    "language_info": {
      "codemirror_mode": {
        "name": "ipython",
        "version": 3
      },
      "file_extension": ".py",
      "mimetype": "text/x-python",
      "name": "python",
      "nbconvert_exporter": "python",
      "pygments_lexer": "ipython3",
      "version": "3.12.3"
    }
  },
  "nbformat": 4,
  "nbformat_minor": 0
}
