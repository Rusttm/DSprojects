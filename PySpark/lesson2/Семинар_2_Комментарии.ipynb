{
  "cells": [
    {
      "cell_type": "code",
      "execution_count": 3,
      "metadata": {
        "colab": {
          "base_uri": "https://localhost:8080/"
        },
        "id": "u9_i1TqpZGR1",
        "outputId": "be61bc92-ddcd-4819-fc92-1ae1db0a9c02"
      },
      "outputs": [
        {
          "name": "stdout",
          "output_type": "stream",
          "text": [
            "Collecting pandas\n",
            "  Using cached pandas-2.2.2-cp312-cp312-manylinux_2_17_x86_64.manylinux2014_x86_64.whl.metadata (19 kB)\n",
            "Collecting numpy>=1.26.0 (from pandas)\n",
            "  Downloading numpy-2.0.1-cp312-cp312-manylinux_2_17_x86_64.manylinux2014_x86_64.whl.metadata (60 kB)\n",
            "\u001b[2K     \u001b[90m━━━━━━━━━━━━━━━━━━━━━━━━━━━━━━━━━━━━━━━\u001b[0m \u001b[32m60.9/60.9 kB\u001b[0m \u001b[31m805.9 kB/s\u001b[0m eta \u001b[36m0:00:00\u001b[0m \u001b[36m0:00:01\u001b[0m\n",
            "\u001b[?25hRequirement already satisfied: python-dateutil>=2.8.2 in /home/user77/Desktop/DSprojects/.venv/lib/python3.12/site-packages (from pandas) (2.9.0.post0)\n",
            "Collecting pytz>=2020.1 (from pandas)\n",
            "  Using cached pytz-2024.1-py2.py3-none-any.whl.metadata (22 kB)\n",
            "Collecting tzdata>=2022.7 (from pandas)\n",
            "  Using cached tzdata-2024.1-py2.py3-none-any.whl.metadata (1.4 kB)\n",
            "Requirement already satisfied: six>=1.5 in /home/user77/Desktop/DSprojects/.venv/lib/python3.12/site-packages (from python-dateutil>=2.8.2->pandas) (1.16.0)\n",
            "Using cached pandas-2.2.2-cp312-cp312-manylinux_2_17_x86_64.manylinux2014_x86_64.whl (12.7 MB)\n",
            "Downloading numpy-2.0.1-cp312-cp312-manylinux_2_17_x86_64.manylinux2014_x86_64.whl (19.2 MB)\n",
            "\u001b[2K   \u001b[90m━━━━━━━━━━━━━━━━━━━━━━━━━━━━━━━━━━━━━━━━\u001b[0m \u001b[32m19.2/19.2 MB\u001b[0m \u001b[31m31.7 MB/s\u001b[0m eta \u001b[36m0:00:00\u001b[0m00:01\u001b[0m00:01\u001b[0m\n",
            "\u001b[?25hUsing cached pytz-2024.1-py2.py3-none-any.whl (505 kB)\n",
            "Using cached tzdata-2024.1-py2.py3-none-any.whl (345 kB)\n",
            "Installing collected packages: pytz, tzdata, numpy, pandas\n",
            "Successfully installed numpy-2.0.1 pandas-2.2.2 pytz-2024.1 tzdata-2024.1\n",
            "Note: you may need to restart the kernel to use updated packages.\n"
          ]
        }
      ],
      "source": [
        "#Устанавливаем pySpark\n",
        "# %pip install pyspark >> None\n",
        "# %pip install pandas"
      ]
    },
    {
      "cell_type": "code",
      "execution_count": 21,
      "metadata": {
        "id": "2MHgjKWVtqTs"
      },
      "outputs": [],
      "source": [
        "import pyspark\n",
        "from pyspark.sql import SparkSession\n",
        "from pyspark.sql.functions import sum, avg, when, max, month, year\n",
        "from pyspark.sql.functions import countDistinct\n",
        "from pyspark.sql import functions as F\n",
        "import pandas as pd"
      ]
    },
    {
      "cell_type": "code",
      "execution_count": 5,
      "metadata": {
        "colab": {
          "base_uri": "https://localhost:8080/",
          "height": 356
        },
        "id": "naxU9VX0Y8xS",
        "outputId": "7ebfd579-284d-463f-bb20-6a9a6fce8f37"
      },
      "outputs": [
        {
          "name": "stdout",
          "output_type": "stream",
          "text": [
            "+-----------+-----------+------------------+---------+\n",
            "|order_month|total_sales|     average_sales|max_sales|\n",
            "+-----------+-----------+------------------+---------+\n",
            "|          1|      23306|           2913.25|     6537|\n",
            "|          2|      12103|2017.1666666666667|     5625|\n",
            "|          3|      30389|          3798.625|     9905|\n",
            "|          4|      28471| 2190.076923076923|     7821|\n",
            "|          5|      20784|            3464.0|     8744|\n",
            "|          6|      23232|            2323.2|     5486|\n",
            "|          7|      15185|          1898.125|     5444|\n",
            "|          8|      30575|            3057.5|     8444|\n",
            "|          9|      26291|          3286.375|     8056|\n",
            "|         10|      25513|          3189.125|     6531|\n",
            "|         11|      21918|           2739.75|     6667|\n",
            "|         12|      13716|1959.4285714285713|     5755|\n",
            "+-----------+-----------+------------------+---------+\n",
            "\n"
          ]
        }
      ],
      "source": [
        "#Создаем SparkSession\n",
        "spark=SparkSession.builder.appName('Practise').getOrCreate()\n",
        "\n",
        "#загружаем csv файл\n",
        "'''\n",
        "    spark.read.load: Это метод PySpark для чтения данных из файла. Он используется для загрузки данных в DataFrame.\n",
        "    'sales_data.csv': Это путь к файлу CSV, который вы хотите прочитать. В данном случае, файл называется sales_data.csv.\n",
        "    format=\"csv\": Указывает формат файла, который вы хотите прочитать. В данном случае, формат файла - CSV.\n",
        "    sep=\",\": Этот параметр определяет разделитель полей в CSV-файле. В данном случае, разделителем является запятая.\n",
        "    header=\"true\": Этот параметр указывает, что первая строка CSV-файла содержит имена столбцов.\n",
        "    Infer_schema=True: Этот параметр указывает PySpark автоматически определять типы данных столбцов на основе содержимого файла.\n",
        "'''\n",
        "df_pyspark=spark.read.load('sales_data.csv', format=\"csv\", sep=\",\", header=\"true\", Infer_schema=True)\n",
        "\n",
        "#необходимые преобразования\n",
        "'''\n",
        "Изменяем тип данных столбца `order_id` в DataFrame `df_pyspark` на целочисленный (`int`).\n",
        "Это достигается с помощью функции `withColumn()`, которая используется для добавления, замены или\n",
        "обновления столбцов в DataFrame. В данном случае, `withColumn()` применяется для изменения типа\n",
        "данных столбца `order_id` с использованием метода `cast()`, который принимает в качестве аргумента\n",
        "тип данных, на который нужно преобразовать столбец. В данном случае, тип данных для преобразования\n",
        "указан как `'int'`, что соответствует целочисленному типу данных в PySpark.\n",
        "\n",
        "Пример кода:\n",
        "```python\n",
        "df_pyspark = df_pyspark.withColumn(\"order_id\", df_pyspark[\"order_id\"].cast('int'))\n",
        "```\n",
        "Код создает новый DataFrame, в котором тип данных столбца `order_id` изменен на `int`, не\n",
        "изменяя исходный DataFrame `df_pyspark`. Функция `withColumn()` является трансформацией DataFrame,\n",
        "что означает, что она возвращает новый DataFrame с указанными изменениями, не изменяя исходный DataFrame.\n",
        "'''\n",
        "df_pyspark = df_pyspark.withColumn(\"order_id\", df_pyspark[\"order_id\"].cast('int'))\n",
        "df_pyspark = df_pyspark.withColumn(\"product_id\", df_pyspark[\"product_id\"].cast('int'))\n",
        "df_pyspark = df_pyspark.withColumn(\"customer_id\", df_pyspark[\"customer_id\"].cast('int'))\n",
        "df_pyspark = df_pyspark.withColumn(\"order_date\", df_pyspark[\"order_date\"].cast('date'))\n",
        "df_pyspark = df_pyspark.withColumn(\"quantity\", df_pyspark[\"quantity\"].cast('int'))\n",
        "df_pyspark = df_pyspark.withColumn(\"price_per_unit\", df_pyspark[\"price_per_unit\"].cast('int'))\n",
        "df_pyspark = df_pyspark.withColumn(\"total_price\", df_pyspark[\"total_price\"].cast('int'))\n",
        "\n",
        "#добавление колонки со значением месяца\n",
        "df_pyspark = df_pyspark.withColumn(\"order_month\", month(df_pyspark[\"order_date\"]))\n",
        "\n",
        "#нахождение нужных значений\n",
        "'''\n",
        "Выполняем агрегацию данных в DataFrame `df_pyspark` по столбцу `order_month`,\n",
        "используя функции `groupBy` и `agg` из PySpark. В результате получаем новый DataFrame\n",
        "`sales_analysis`, который содержит следующие агрегированные данные:\n",
        "\n",
        "- `total_sales`: сумма значений столбца `total_price` для каждого месяца.\n",
        "- `average_sales`: среднее значение столбца `total_price` для каждого месяца.\n",
        "- `max_sales`: максимальное значение столбца `total_price` для каждого месяца.\n",
        "\n",
        "Это позволяет анализировать продажи по месяцам, выявляя общую сумму продаж,\n",
        "среднюю сумму продаж и максимальную сумму продаж для каждого месяца.\n",
        "'''\n",
        "sales_analysis = df_pyspark.groupBy(\"order_month\").agg(\n",
        "                            sum(\"total_price\").alias(\"total_sales\"),\n",
        "                            avg(\"total_price\").alias(\"average_sales\"),\n",
        "                            max(\"total_price\").alias(\"max_sales\"))\n",
        "\n",
        "#вывод результата с сортировкой\n",
        "sales_analysis.orderBy('order_month').show()"
      ]
    },
    {
      "cell_type": "markdown",
      "metadata": {
        "id": "a-lirKpeZT1g"
      },
      "source": [
        "### Задание 2: Вычислите количество товаров, купленных различными методами оплаты.\n"
      ]
    },
    {
      "cell_type": "markdown",
      "metadata": {
        "id": "syxKtruti038"
      },
      "source": [
        "Код выполняет агрегацию данных в DataFrame `df_pyspark` по столбцу `payment_method`, суммируя значения в столбце `quantity` для каждой группы и присваивая результату новое имя `num_of_sales`. В результате получается новый DataFrame `sales_analysis`, в котором каждая строка соответствует уникальному значению из столбца `payment_method`, а столбец\n",
        "`num_of_sales` содержит сумму значений `quantity` для каждой группы.\n",
        "\n",
        "- `groupBy(\"payment_method\")` группирует данные по столбцу `payment_method`, создавая группы для каждого уникального значения в этом столбце.\n",
        "- `agg(sum(\"quantity\").alias(\"num_of_sales\"))` применяет агрегационную функцию `sum` к столбцу `quantity` для каждой группы, суммируя значения `quantity` внутри каждой группы. Результат этой операции затем переименовывается в `num_of_sales` с помощью метода `alias`.\n",
        "\n",
        "Таким образом, код позволяет анализировать продажи по различным методам оплаты, суммируя количество продаж для каждого метода оплаты."
      ]
    },
    {
      "cell_type": "code",
      "execution_count": 14,
      "metadata": {},
      "outputs": [
        {
          "name": "stdout",
          "output_type": "stream",
          "text": [
            "+--------+----------+-----------+----------+--------+--------------+------------------+--------------+-----------------+\n",
            "|order_id|product_id|customer_id|order_date|quantity|price_per_unit|       total_price|payment_method|           region|\n",
            "+--------+----------+-----------+----------+--------+--------------+------------------+--------------+-----------------+\n",
            "|  138884|         1|     241288|2022-08-05|       5|        1500.4|            7502.0|   Credit Card|           Kanyon|\n",
            "|  317333|         4|     111565|2021-12-12|       3|       1800.51|           5401.53|    Debit Card|   Forum Istanbul|\n",
            "|  127801|         1|     266599|2021-11-09|       1|        300.08|            300.08|          Cash|        Metrocity|\n",
            "|  173702|         4|     988172|2021-05-16|       5|       3000.85|          15004.25|   Credit Card|     Metropol AVM|\n",
            "|  337046|         0|     189076|2021-10-24|       4|          60.6|             242.4|          Cash|           Kanyon|\n",
            "|  227836|         1|     657758|2022-05-24|       5|        1500.4|            7502.0|   Credit Card|   Forum Istanbul|\n",
            "|  121056|         2|     151197|2022-03-13|       1|         40.66|             40.66|          Cash|     Istinye Park|\n",
            "|  293112|         1|     176086|2021-01-13|       2|        600.16|           1200.32|   Credit Card| Mall of Istanbul|\n",
            "|  293455|         1|     159642|2021-11-04|       3|        900.24|2700.7200000000003|   Credit Card|        Metrocity|\n",
            "|  326945|         1|     283361|2021-08-22|       2|        600.16|           1200.32|   Credit Card|           Kanyon|\n",
            "|  306368|         3|     240286|2022-12-25|       2|         10.46|             20.92|          Cash|        Metrocity|\n",
            "|  139207|         0|     191708|2022-10-28|       1|         15.15|             15.15|   Credit Card|Emaar Square Mall|\n",
            "|  640508|         7|     225330|2022-07-31|       4|        143.36|            573.44|    Debit Card|        Metrocity|\n",
            "|  179802|         1|     312861|2022-11-17|       2|        600.16|           1200.32|          Cash|      Cevahir AVM|\n",
            "|  336189|         1|     555402|2022-06-03|       2|        600.16|           1200.32|   Credit Card|           Kanyon|\n",
            "|  688768|         4|     362288|2021-11-07|       5|       3000.85|          15004.25|   Credit Card|   Viaport Outlet|\n",
            "|  294687|         0|     300786|2021-01-16|       2|          30.3|              60.6|    Debit Card|        Metrocity|\n",
            "|  195744|         3|     330667|2022-01-05|       3|         15.69|             47.07|   Credit Card|     Zorlu Center|\n",
            "|  993048|         1|     218149|2021-07-26|       2|        600.16|           1200.32|          Cash|     Metropol AVM|\n",
            "|  992454|         7|     196845|2023-03-07|       4|        143.36|            573.44|          Cash|      Cevahir AVM|\n",
            "+--------+----------+-----------+----------+--------+--------------+------------------+--------------+-----------------+\n",
            "only showing top 20 rows\n",
            "\n"
          ]
        }
      ],
      "source": [
        "df3_pyspark=spark.read.load('sales_data3.csv', format=\"csv\", sep=\",\", header=\"true\", Infer_schema=True)\n",
        "df3_pyspark.show()"
      ]
    },
    {
      "cell_type": "code",
      "execution_count": 15,
      "metadata": {
        "colab": {
          "base_uri": "https://localhost:8080/",
          "height": 211
        },
        "id": "LyOOjaMWZWSf",
        "outputId": "0166e35b-02ca-4acb-83c9-daeac3769e6e"
      },
      "outputs": [
        {
          "name": "stdout",
          "output_type": "stream",
          "text": [
            "+--------------+------------+\n",
            "|payment_method|num_of_sales|\n",
            "+--------------+------------+\n",
            "|   Credit Card|    105045.0|\n",
            "|          Cash|    133370.0|\n",
            "|    Debit Card|     60297.0|\n",
            "+--------------+------------+\n",
            "\n"
          ]
        }
      ],
      "source": [
        "\n",
        "\n",
        "#нахождение нужных значениях\n",
        "sales_analysis = df3_pyspark.groupBy(\"payment_method\").agg(sum(\"quantity\").alias(\"num_of_sales\"))\n",
        "\n",
        "#вывод результата\n",
        "sales_analysis.show()"
      ]
    },
    {
      "cell_type": "markdown",
      "metadata": {
        "id": "YN9WbJQiueVo"
      },
      "source": [
        "----------------------------------------------------------"
      ]
    },
    {
      "cell_type": "markdown",
      "metadata": {
        "id": "4ddxISE3Zcj9"
      },
      "source": [
        "### Задание 3: Найдите регион с самым большой суммарной стоимостью продаж\n"
      ]
    },
    {
      "cell_type": "markdown",
      "metadata": {
        "id": "tBUx9TzgfL_x"
      },
      "source": [
        "1. Группируем данные в DataFrame `df_pyspark` по столбцу `region`, а затем применяет агрегационную функцию `sum` к столбцу `total_price` для каждой группы. Результат этой операции переименовывается в `total_price_per_region`.\n",
        "2. Создаем новый DataFrame `sales_analysis`, содержащий сумму `total_price` для каждой уникальной `region`.\n",
        "3. Выбираем столбец `region` из DataFrame `sales_analysis`, сортирует его по убыванию значений `total_price_per_region` и выбирает первую запись.\n",
        "4. Выводим результат, который представляет собой регион с наибольшей суммой `total_price`.\n",
        "\n",
        "Таким образом, код анализирует продажи по регионам, суммирует общую стоимость продаж для каждого региона и определяет регион с наибольшей суммой продаж."
      ]
    },
    {
      "cell_type": "code",
      "execution_count": 16,
      "metadata": {
        "colab": {
          "base_uri": "https://localhost:8080/",
          "height": 211
        },
        "id": "8SzQa3f-Zd6P",
        "outputId": "a8285e1b-6a2e-4aec-bbef-ee3184315705"
      },
      "outputs": [
        {
          "name": "stdout",
          "output_type": "stream",
          "text": [
            "Mall of Istanbul\n"
          ]
        }
      ],
      "source": [
        "#нахождение нужных значениях\n",
        "sales_analysis = df3_pyspark.groupBy(\"region\").agg(\n",
        "    sum(\"total_price\").alias(\"total_price_per_region\")\n",
        ")\n",
        "total_price_per_region = sales_analysis.select(\"region\").orderBy(sales_analysis.total_price_per_region.desc()).first()\n",
        "\n",
        "#вывод результата\n",
        "print(*total_price_per_region)"
      ]
    },
    {
      "cell_type": "markdown",
      "metadata": {
        "id": "eoxgAb7vumEL"
      },
      "source": [
        "--------------------------------------------------------------"
      ]
    },
    {
      "cell_type": "markdown",
      "metadata": {
        "id": "U5VwaTqpZieZ"
      },
      "source": [
        "### Задание 4: Вычислите общую сумму продаж и среднюю сумму продажи для каждого региона.\n"
      ]
    },
    {
      "cell_type": "markdown",
      "metadata": {
        "id": "XGXeHTG5fU5X"
      },
      "source": [
        "1. Группируем данные в DataFrame `df_pyspark` по столбцу `region`, а затем применяет агрегационные функции `sum` и `avg` к столбцу `total_price` для каждой группы. Результаты этих операций переименовываются в `total_price_per_region` и `avg_price_per_region` соответственно.\n",
        "2. Создаем новый DataFrame `sales_analysis`, содержащий сумму `total_price` и среднее значение `total_price` для каждой уникальной `region`.\n",
        "3. Выводим результаты из DataFrame `sales_analysis` с помощью метода `show()`, который отображает содержимое DataFrame в консоли.\n",
        "\n",
        "Таким образом, код анализирует продажи по регионам, суммирует общую стоимость продаж и вычисляет среднюю стоимость продаж для каждого региона. Это позволяет получить общую картину продаж по регионам, включая как общую стоимость продаж, так и среднюю стоимость продаж в каждом регионе."
      ]
    },
    {
      "cell_type": "code",
      "execution_count": 17,
      "metadata": {
        "colab": {
          "base_uri": "https://localhost:8080/",
          "height": 211
        },
        "id": "TAR3SCC_ZirD",
        "outputId": "add91204-f239-4c1c-c11b-6013598e4a76"
      },
      "outputs": [
        {
          "name": "stdout",
          "output_type": "stream",
          "text": [
            "+-----------------+----------------------+--------------------+\n",
            "|           region|total_price_per_region|avg_price_per_region|\n",
            "+-----------------+----------------------+--------------------+\n",
            "|           Kanyon|  5.0554231100000605E7|   2550.281546688221|\n",
            "|        Metrocity|   3.730278733000033E7|  2485.0301332356494|\n",
            "| Mall of Istanbul|   5.087248168000067E7|   2550.894132277023|\n",
            "|     Zorlu Center|   1.290105382000002E7|   2542.079570443354|\n",
            "|      Cevahir AVM|   1.264513820000004E7|  2533.5880985774475|\n",
            "|Emaar Square Mall|  1.2406100290000062E7|  2578.6947183537854|\n",
            "|   Viaport Outlet|  1.2521339720000044E7|    2548.09518111519|\n",
            "|     Istinye Park|  2.4618827680000216E7|  2517.0051814743088|\n",
            "|   Forum Istanbul|   1.230392124000007E7|   2487.148016980002|\n",
            "|     Metropol AVM|    2.53799131900002E7|   2497.777107568172|\n",
            "+-----------------+----------------------+--------------------+\n",
            "\n"
          ]
        }
      ],
      "source": [
        "#нахождение нужных значениях\n",
        "sales_analysis = df3_pyspark.groupBy(\"region\").agg(\n",
        "    sum(\"total_price\").alias(\"total_price_per_region\"),\n",
        "    avg(\"total_price\").alias(\"avg_price_per_region\")\n",
        ")\n",
        "#вывод результата\n",
        "sales_analysis.show()"
      ]
    },
    {
      "cell_type": "markdown",
      "metadata": {
        "id": "NO37aDRFurog"
      },
      "source": [
        "-------------------------------------------------------------------------"
      ]
    },
    {
      "cell_type": "markdown",
      "metadata": {
        "id": "hYUYfDqbZoUl"
      },
      "source": [
        "### Задание 5: Вычислите общее количество и сумму товаров, проданных за наличные в 2022 году.\n"
      ]
    },
    {
      "cell_type": "markdown",
      "metadata": {
        "id": "0S5XRpapfhDb"
      },
      "source": [
        "1. Добавляем новую колонку `order_year` в DataFrame `df_pyspark`, используя функцию `year` для извлечения года из даты в колонке `order_date`.\n",
        "2. Фильтруем DataFrame `df_pyspark` по двум условиям: методу оплаты должен быть \"Наличные\" и год заказа должен быть 2022.\n",
        "3. Агрегируем данные, суммируя количество (`quantity`) и общую стоимость (`total_price`) для всех записей, удовлетворяющих условиям фильтрации. Результаты этих операций переименовываются в `total_quantity_2022` и `total_price_2022` соответственно.\n",
        "4. Создаем новый DataFrame `sales_analysis`, содержащий сумму количества и общую стоимость продаж за 2022 год, оплаченных наличными.\n",
        "5. Выводим результаты из DataFrame `sales_analysis` с помощью метода `show()`, который отображает содержимое DataFrame в консоли.\n",
        "\n",
        "Таким образом, код анализирует продажи, оплаченные наличными, за 2022 год, суммируя количество и общую стоимость продаж для этого периода."
      ]
    },
    {
      "cell_type": "code",
      "execution_count": 27,
      "metadata": {
        "colab": {
          "base_uri": "https://localhost:8080/",
          "height": 211
        },
        "id": "t1-mw38JZqmJ",
        "outputId": "fea05334-d091-4376-f947-4f0950b6b28f"
      },
      "outputs": [
        {
          "name": "stdout",
          "output_type": "stream",
          "text": [
            "+--------+----------+-----------+----------+--------+--------------+------------------+--------------+-----------------+----------+\n",
            "|order_id|product_id|customer_id|order_date|quantity|price_per_unit|       total_price|payment_method|           region|order_year|\n",
            "+--------+----------+-----------+----------+--------+--------------+------------------+--------------+-----------------+----------+\n",
            "|  138884|         1|     241288|2022-08-05|       5|        1500.4|            7502.0|   Credit Card|           Kanyon|      2022|\n",
            "|  317333|         4|     111565|2021-12-12|       3|       1800.51|           5401.53|    Debit Card|   Forum Istanbul|      2021|\n",
            "|  127801|         1|     266599|2021-11-09|       1|        300.08|            300.08|          Cash|        Metrocity|      2021|\n",
            "|  173702|         4|     988172|2021-05-16|       5|       3000.85|          15004.25|   Credit Card|     Metropol AVM|      2021|\n",
            "|  337046|         0|     189076|2021-10-24|       4|          60.6|             242.4|          Cash|           Kanyon|      2021|\n",
            "|  227836|         1|     657758|2022-05-24|       5|        1500.4|            7502.0|   Credit Card|   Forum Istanbul|      2022|\n",
            "|  121056|         2|     151197|2022-03-13|       1|         40.66|             40.66|          Cash|     Istinye Park|      2022|\n",
            "|  293112|         1|     176086|2021-01-13|       2|        600.16|           1200.32|   Credit Card| Mall of Istanbul|      2021|\n",
            "|  293455|         1|     159642|2021-11-04|       3|        900.24|2700.7200000000003|   Credit Card|        Metrocity|      2021|\n",
            "|  326945|         1|     283361|2021-08-22|       2|        600.16|           1200.32|   Credit Card|           Kanyon|      2021|\n",
            "|  306368|         3|     240286|2022-12-25|       2|         10.46|             20.92|          Cash|        Metrocity|      2022|\n",
            "|  139207|         0|     191708|2022-10-28|       1|         15.15|             15.15|   Credit Card|Emaar Square Mall|      2022|\n",
            "|  640508|         7|     225330|2022-07-31|       4|        143.36|            573.44|    Debit Card|        Metrocity|      2022|\n",
            "|  179802|         1|     312861|2022-11-17|       2|        600.16|           1200.32|          Cash|      Cevahir AVM|      2022|\n",
            "|  336189|         1|     555402|2022-06-03|       2|        600.16|           1200.32|   Credit Card|           Kanyon|      2022|\n",
            "|  688768|         4|     362288|2021-11-07|       5|       3000.85|          15004.25|   Credit Card|   Viaport Outlet|      2021|\n",
            "|  294687|         0|     300786|2021-01-16|       2|          30.3|              60.6|    Debit Card|        Metrocity|      2021|\n",
            "|  195744|         3|     330667|2022-01-05|       3|         15.69|             47.07|   Credit Card|     Zorlu Center|      2022|\n",
            "|  993048|         1|     218149|2021-07-26|       2|        600.16|           1200.32|          Cash|     Metropol AVM|      2021|\n",
            "|  992454|         7|     196845|2023-03-07|       4|        143.36|            573.44|          Cash|      Cevahir AVM|      2023|\n",
            "+--------+----------+-----------+----------+--------+--------------+------------------+--------------+-----------------+----------+\n",
            "only showing top 20 rows\n",
            "\n",
            "+-------------------+-------------------+\n",
            "|total_quantity_2022|   total_price_2022|\n",
            "+-------------------+-------------------+\n",
            "|            61390.0|5.169754418000056E7|\n",
            "+-------------------+-------------------+\n",
            "\n"
          ]
        }
      ],
      "source": [
        "#добавление колонки со значением года\n",
        "df3_1_pyspark = df3_pyspark.withColumn(\"order_year\", year(df3_pyspark[\"order_date\"]))\n",
        "df3_1_pyspark.show()\n",
        "#нахождение нужных значений\n",
        "sales_analysis = df3_1_pyspark.filter((df3_1_pyspark.payment_method == \"Cash\") & (df3_1_pyspark.order_year == 2022)).agg(\n",
        "    sum(\"quantity\").alias(\"total_quantity_2022\"),\n",
        "    sum(\"total_price\").alias(\"total_price_2022\")\n",
        ")\n",
        "\n",
        "#вывод результата с сортировкой\n",
        "sales_analysis.show()"
      ]
    },
    {
      "cell_type": "markdown",
      "metadata": {
        "id": "W43HjvgJZvDg"
      },
      "source": [
        "### Задание 6: Найдите уникальное количество покупателей за 2022 год\n"
      ]
    },
    {
      "cell_type": "markdown",
      "metadata": {
        "id": "PGF3TaRrfp3x"
      },
      "source": [
        "1. Импортируем функцию `countDistinct` из модуля `pyspark.sql.functions`. Эта функция используется для подсчета уникальных значений в определенных столбцах DataFrame.\n",
        "2. Фильтруем исходный DataFrame `df_pyspark`, оставляя только записи за 2022 год. Это делается с помощью метода `filter`, который принимает условие для фильтрации.\n",
        "3. Выбираем из отфильтрованного DataFrame количество уникальных значений в столбце `customer_id` с использованием функции `countDistinct`. Результат сохраняется в новом столбце с именем `unique_users` [1].\n",
        "4. Выводим результат на экран с помощью метода `show`. Этот метод отображает данные DataFrame в удобном для чтения формате.\n",
        "\n",
        "В итоге, код подсчитывает количество уникальных клиентов (`customer_id`), совершивших покупки в 2022 году, и выводит это количество на экран."
      ]
    },
    {
      "cell_type": "code",
      "execution_count": 29,
      "metadata": {
        "id": "-z8hXbOIZwxB"
      },
      "outputs": [
        {
          "name": "stdout",
          "output_type": "stream",
          "text": [
            "+------------+\n",
            "|unique_users|\n",
            "+------------+\n",
            "|       45551|\n",
            "+------------+\n",
            "\n"
          ]
        }
      ],
      "source": [
        "#нахождение нужных значений\n",
        "sales_analysis = df3_1_pyspark.filter(df3_1_pyspark.order_year == 2022)\n",
        "sales_analysis = sales_analysis.select(countDistinct(\"customer_id\").alias(\"unique_users\"))\n",
        "\n",
        "#вывод результата с сортировкой\n",
        "sales_analysis.show()"
      ]
    },
    {
      "cell_type": "markdown",
      "metadata": {
        "id": "VMMf7s8_Z0u5"
      },
      "source": [
        "### Задание 7: Вам даны данные с информацией о стоимости продуктов в различных валютах. Ваша задача состоит в том, чтобы перевести все цены в доллары, используя текущие курсы валют. Однако у вас есть ограничение: для некоторых продуктов курс валюты неизвестен и их стоимость должна остаться в исходной валюте. (Для конвертации из EUR в USD нужно умножить на 1.2)\n"
      ]
    },
    {
      "cell_type": "markdown",
      "metadata": {
        "id": "09iuWD2Kf0Nk"
      },
      "source": [
        "1. Импортируем необходимые модули и функции из PySpark для работы с SparkSession и функцией `when` для условной логики.\n",
        "2. Создаем сессию Spark с именем приложения \"currency_conversion\". Это необходимо для работы с Spark и выполнения операций с данными.\n",
        "3. Загружаем данные в DataFrame `df` с помощью метода `createDataFrame`. Данные представляют собой список кортежей, где каждый кортеж содержит информацию о продукте: его идентификатор (`product_id`), цену (`price`) и валюту (`currency`).\n",
        "4. Добавляем новый столбец `price_usd` в DataFrame, который содержит цену продукта в долларах США. Для этого используется функция `when` для условного преобразования цены в зависимости от валюты:\n",
        "   - Если валюта равна \"USD\", цена остается без изменений.\n",
        "   - Если валюта равна \"EUR\", цена умножается на курс обмена 1.2 (примерный курс EUR/USD).\n",
        "   - Если валюта неизвестна, цена остается без изменений.\n",
        "5. Выводим результат на экран с помощью метода `show`. Это позволяет увидеть, как изменились цены после конвертации в доллары США.\n",
        "\n",
        "В итоге, код позволяет преобразовать цены продуктов из разных валют в доллары США, используя примерный курс обмена для EUR/USD."
      ]
    },
    {
      "cell_type": "code",
      "execution_count": 30,
      "metadata": {
        "id": "Pa6-W5fOZ2h7"
      },
      "outputs": [
        {
          "name": "stderr",
          "output_type": "stream",
          "text": [
            "24/07/26 15:02:57 WARN SparkSession: Using an existing Spark session; only runtime SQL configurations will take effect.\n"
          ]
        },
        {
          "name": "stdout",
          "output_type": "stream",
          "text": [
            "+----------+-----+--------+---------+\n",
            "|product_id|price|currency|price_usd|\n",
            "+----------+-----+--------+---------+\n",
            "|         1|  100|     USD|    100.0|\n",
            "|         2|  200|     EUR|    240.0|\n",
            "|         3|  300| Unknown|    300.0|\n",
            "|         4|  100|     EUR|    120.0|\n",
            "|         5|  200|     EUR|    240.0|\n",
            "|         6|  300| Unknown|    300.0|\n",
            "|         7|  100| Unknown|    100.0|\n",
            "|         8|  200|     USD|    200.0|\n",
            "|         9|  300|     USD|    300.0|\n",
            "+----------+-----+--------+---------+\n",
            "\n"
          ]
        }
      ],
      "source": [
        "# Создание сессии Spark\n",
        "spark = SparkSession.builder.appName(\"currency_conversion\").getOrCreate()\n",
        "\n",
        "# Загрузка датасета\n",
        "data = [(1, 100, \"USD\"),\n",
        "        (2, 200, \"EUR\"),\n",
        "        (3, 300, \"Unknown\"),\n",
        "        (4, 100, \"EUR\"),\n",
        "        (5, 200, \"EUR\"),\n",
        "        (6, 300, \"Unknown\"),\n",
        "        (7, 100, \"Unknown\"),\n",
        "        (8, 200, \"USD\"),\n",
        "        (9, 300, \"USD\")\n",
        "]\n",
        "df = spark.createDataFrame(data, [\"product_id\", \"price\", \"currency\"])\n",
        "\n",
        "# Добавление столбца с конвертированной ценой\n",
        "df = df.withColumn(\"price_usd\", when(df.currency == \"USD\", df.price)\n",
        "                                 .when(df.currency == \"EUR\", df.price * 1.2)  # Примерный курс EUR/USD = 1.2\n",
        "                             \t.otherwise(df.price))  # Если курс неизвестен, оставляем в исходной валюте\n",
        "\n",
        "# Вывод результата\n",
        "df.show()"
      ]
    },
    {
      "cell_type": "markdown",
      "metadata": {
        "id": "XBdDk6HgZ8WL"
      },
      "source": [
        "### Задание 8: Допустим, есть два датасета: один содержит информацию о пользователях (user_id, name, age), а другой содержит информацию о покупках пользователей (user_id, product_id, date). Необходимо найти средний возраст пользователей, совершивших покупки.\n"
      ]
    },
    {
      "cell_type": "markdown",
      "metadata": {
        "id": "lXBhoxLQgJn9"
      },
      "source": [
        "1. Инициализируем Spark сессию с именем приложения \"user_purchase_join\".\n",
        "2. Создаем два DataFrame: `users_df` и `purchases_df`. Первый содержит информацию о пользователях (ID, имя, возраст), второй - о покупках (ID пользователя, ID продукта, дата покупки).\n",
        "3. Выполняем операцию соединения (join) между этими двумя DataFrame по столбцу `user_id`. Это позволяет объединить информацию о пользователях и их покупках в одном DataFrame.\n",
        "4. Группируем результат по `user_id` и вычисляет средний возраст пользователей, которые совершили покупки.\n",
        "5. Выводим результат на экран.\n",
        "\n",
        "Основная цель кода - анализировать данные о покупках пользователей, вычисляя средний возраст пользователей, совершивших покупки. Это может быть полезно для анализа поведения пользователей и оптимизации маркетинговых стратегий."
      ]
    },
    {
      "cell_type": "code",
      "execution_count": 31,
      "metadata": {
        "id": "jektE8ZlZ8KH"
      },
      "outputs": [
        {
          "name": "stderr",
          "output_type": "stream",
          "text": [
            "24/07/26 15:03:26 WARN SparkSession: Using an existing Spark session; only runtime SQL configurations will take effect.\n"
          ]
        },
        {
          "name": "stdout",
          "output_type": "stream",
          "text": [
            "+-------+-----------+\n",
            "|user_id|average_age|\n",
            "+-------+-----------+\n",
            "|      1|       25.0|\n",
            "|      2|       30.0|\n",
            "|      3|       28.0|\n",
            "|      6|       17.0|\n",
            "+-------+-----------+\n",
            "\n"
          ]
        }
      ],
      "source": [
        "# Создаем Spark сессию\n",
        "spark = SparkSession.builder.appName(\"user_purchase_join\").getOrCreate()\n",
        "\n",
        "# Загружаем датасеты\n",
        "users_df = spark.createDataFrame([\n",
        "\t(1, \"Alice\", 25),\n",
        "\t(2, \"Bob\", 30),\n",
        "\t(3, \"Charlie\", 28),\n",
        "\t(4, \"John\", 56),\n",
        "\t(5, \"Alex\", 41),\n",
        "\t(6, \"Juliya\", 17)\n",
        "\n",
        "], [\"user_id\", \"name\", \"age\"])\n",
        "\n",
        "purchases_df = spark.createDataFrame([\n",
        "\t(1, 101, \"2022-01-01\"),\n",
        "\t(2, 102, \"2022-01-02\"),\n",
        "\t(3, 103, \"2022-01-03\"),\n",
        "\t(3, 104, \"2022-01-04\"),\n",
        "\t(6, 105, \"2022-01-05\")\n",
        "], [\"user_id\", \"product_id\", \"date\"])\n",
        "\n",
        "# Производим операцию join и вычисляем средний возраст\n",
        "result_df = users_df.join(purchases_df, \"user_id\").groupBy(\"user_id\").agg(avg(\"age\").alias(\"average_age\"))\n",
        "\n",
        "# Выводим результат\n",
        "result_df.show()"
      ]
    },
    {
      "cell_type": "markdown",
      "metadata": {
        "id": "Xl7gn6SlaECs"
      },
      "source": [
        "### Задание 9: У вас есть два набора данных. Первый набор содержит информацию о продуктах: id продукта, название, категория и цена. Второй набор содержит информацию о заказах: id заказа, id продукта, количество. Ваша задача — использовать PySpark для выполнения следующих шагов:\n",
        "\n",
        "1. Присоединить набор данных о продуктах к набору данных о заказах с помощью id продукта.\n",
        "3. Рассчитать общую стоимость каждого заказа, учитывая количество продуктов и их цену.\n",
        "4. Отфильтровать заказы, у которых общая стоимость больше 1000."
      ]
    },
    {
      "cell_type": "markdown",
      "metadata": {
        "id": "JEDkVCHzgRvq"
      },
      "source": [
        "1. Инициализируем сессию Spark с именем приложения \"aggregate-join-filter\".\n",
        "\n",
        "2. Создаем два DataFrame (`products_df` и `orders_df`) из предопределенных списков кортежей, представляющих данные о продуктах и заказах соответственно.\n",
        "\n",
        "3. Присоединяем DataFrame `orders_df` к DataFrame `products_df` по столбцу \"product_id\", используя внутреннее соединение (inner join) по умолчанию.\n",
        "\n",
        "4. Добавляем новый столбец \"total_cost\" в DataFrame `joined_df`, вычисляя общую стоимость каждого заказа как произведение количества товара на цену товара.\n",
        "\n",
        "5. Отфильтровываем заказы, у которых общая стоимость больше 1000, и сохраняет результат в DataFrame `filtered_orders_df`.\n",
        "\n",
        "6. Выводим результаты фильтрации на экран."
      ]
    },
    {
      "cell_type": "code",
      "execution_count": 38,
      "metadata": {
        "id": "aTdFqARAaMHl"
      },
      "outputs": [
        {
          "name": "stdout",
          "output_type": "stream",
          "text": [
            "+----------+--------+--------+---------+---------+-----+----------+\n",
            "|product_id|order_id|quantity|    title| category|price|total_cost|\n",
            "+----------+--------+--------+---------+---------+-----+----------+\n",
            "|         1|       1|       5| product1|category1| 10.0|      50.0|\n",
            "|         2|       3|       3| product2|category2| 15.0|      45.0|\n",
            "|         3|       2|       2| product3|category1| 12.5|      25.0|\n",
            "|         4|       5|       4| product4|category3| 20.0|      80.0|\n",
            "|         5|       4|       1| product5|category2| 18.0|      18.0|\n",
            "|         6|       7|       3| product6|category3| 25.0|      75.0|\n",
            "|         7|       6|       2| product7|category1|  9.0|      18.0|\n",
            "|         8|       8|       2| product8|category2| 16.0|      32.0|\n",
            "|         9|      10|       4| product9|category3| 22.0|      88.0|\n",
            "|        10|       9|       1|product10|category1| 11.5|      11.5|\n",
            "+----------+--------+--------+---------+---------+-----+----------+\n",
            "\n"
          ]
        }
      ],
      "source": [
        "# Создание сессии Spark\n",
        "spark = SparkSession.builder.appName(\"aggregate-join-filter\").getOrCreate()\n",
        "\n",
        "# Чтение наборов данных из CSV файлов\n",
        "data_produсts = [(1, \"product1\", \"category1\", 10.0),\n",
        "                (2, \"product2\", \"category2\", 15.0),\n",
        "                (3, \"product3\", \"category1\", 12.5),\n",
        "                (4, \"product4\", \"category3\", 20.0),\n",
        "                (5, \"product5\", \"category2\", 18.0),\n",
        "                (6, \"product6\", \"category3\", 25.0),\n",
        "                (7, \"product7\", \"category1\", 9.0),\n",
        "                (8, \"product8\", \"category2\", 16.0),\n",
        "                (9, \"product9\", \"category3\", 22.0),\n",
        "                (10, \"product10\", \"category1\", 11.5)]\n",
        "\n",
        "products_df = spark.createDataFrame(data_produсts, [\"product_id\", \"title\", \"category\", \"price\"])\n",
        "\n",
        "data_orders = [(1, 1, 5),\n",
        "               (2, 3, 2),\n",
        "               (3, 2, 3),\n",
        "               (4, 5, 1),\n",
        "               (5, 4, 4),\n",
        "               (6, 7, 2),\n",
        "               (7, 6, 3),\n",
        "               (8, 8, 2),\n",
        "               (9, 10, 1),\n",
        "               (10, 9, 4)]\n",
        "\n",
        "orders_df = spark.createDataFrame(data_orders, [\"order_id\", \"product_id\", \"quantity\"])\n",
        "\n",
        "# Присоединение набора данных о продуктах к набору данных о заказах\n",
        "joined_df = orders_df.join(products_df, \"product_id\")\n",
        "\n",
        "# Расчет общей стоимости каждого заказа\n",
        "total_cost_df = joined_df.withColumn(\"total_cost\", F.col(\"quantity\") * F.col(\"price\"))\n",
        "\n",
        "# Отфильтрование заказов с общей стоимостью больше 1000\n",
        "filtered_orders_df = total_cost_df.filter(total_cost_df.total_cost > 10)\n",
        "\n",
        "# Вывод результата\n",
        "filtered_orders_df.show()"
      ]
    },
    {
      "cell_type": "markdown",
      "metadata": {
        "id": "vzvtUy16aTR2"
      },
      "source": [
        "### Задание 10: Найти сумму чисел в колонке\n"
      ]
    },
    {
      "cell_type": "markdown",
      "metadata": {
        "id": "opFKR8vfgck2"
      },
      "source": [
        "1. Создаем сессию Spark с именем приложения \"sum_example\".\n",
        "2. Создаем DataFrame с одним столбцом \"number\", содержащим числа от 1 до 4.\n",
        "3. Вычисляем сумму всех чисел в столбце \"number\" и выводит результат.\n",
        "\n",
        "Код использует функцию `sum` из модуля `pyspark.sql.functions`, которая является агрегатной функцией и возвращает сумму всех значений в указанном столбце. В данном случае, она применяется к столбцу \"number\" DataFrame `df` для вычисления общей суммы чисел в этом столбце. Результат вычисления суммы затем отображается с помощью метода `show()`."
      ]
    },
    {
      "cell_type": "code",
      "execution_count": 39,
      "metadata": {
        "colab": {
          "base_uri": "https://localhost:8080/"
        },
        "id": "0FSAMl7zaVh8",
        "outputId": "afe7cacd-154d-4e63-8423-9301e4898346"
      },
      "outputs": [
        {
          "name": "stderr",
          "output_type": "stream",
          "text": [
            "24/07/26 15:08:20 WARN SparkSession: Using an existing Spark session; only runtime SQL configurations will take effect.\n"
          ]
        },
        {
          "name": "stdout",
          "output_type": "stream",
          "text": [
            "+-----------+\n",
            "|sum(number)|\n",
            "+-----------+\n",
            "|         10|\n",
            "+-----------+\n",
            "\n"
          ]
        }
      ],
      "source": [
        "# Создание Spark сессии\n",
        "spark = SparkSession.builder.appName(\"sum_example\").getOrCreate()\n",
        "\n",
        "# Создание DataFrame\n",
        "data = [(1,), (2,), (3,), (4,)]\n",
        "df = spark.createDataFrame(data, [\"number\"])\n",
        "\n",
        "# Найти сумму чисел в колонке \"number\"\n",
        "sum_result = df.select(sum(\"number\")).show()"
      ]
    },
    {
      "cell_type": "markdown",
      "metadata": {
        "id": "OIr0GdK0aZai"
      },
      "source": [
        "### Задание 11: Посчитать количество уникальных значений в колонке\n"
      ]
    },
    {
      "cell_type": "markdown",
      "metadata": {
        "id": "D3APjuShgkTe"
      },
      "source": [
        "1. Импортируем необходимые модули из библиотеки PySpark для работы с Spark и функцией `countDistinct` для подсчета уникальных значений в DataFrame.\n",
        "2. Создаем экземпляр SparkSession с именем приложения \"count_distinct_example\". Это необходимо для инициализации Spark и подготовки среды для выполнения операций с данными.\n",
        "3. Создаем DataFrame с именем `df`, используя предоставленные данные. В данном случае, DataFrame содержит одну колонку \"name\" с именами \"Alice\", \"Bob\", \"Alice\" и \"Eve\".\n",
        "4. Выполняем подсчет количества уникальных значений в колонке \"name\" с помощью функции `countDistinct` и выводит результат на экран с помощью метода `show()`.\n",
        "\n",
        "В результате выполнения кода будет выведено количество уникальных имен в колонке \"name\", что в данном случае равно 3, так как имена \"Alice\" и \"Bob\" встречаются дважды, а \"Eve\" - один раз."
      ]
    },
    {
      "cell_type": "code",
      "execution_count": 40,
      "metadata": {
        "id": "tThczq14aXrt"
      },
      "outputs": [
        {
          "name": "stdout",
          "output_type": "stream",
          "text": [
            "+--------------------+\n",
            "|count(DISTINCT name)|\n",
            "+--------------------+\n",
            "|                   3|\n",
            "+--------------------+\n",
            "\n"
          ]
        },
        {
          "name": "stderr",
          "output_type": "stream",
          "text": [
            "24/07/26 15:08:24 WARN SparkSession: Using an existing Spark session; only runtime SQL configurations will take effect.\n"
          ]
        }
      ],
      "source": [
        "# Создание Spark сессии\n",
        "spark = SparkSession.builder.appName(\"count_distinct_example\").getOrCreate()\n",
        "\n",
        "# Создание DataFrame\n",
        "data = [(\"Alice\",), (\"Bob\",), (\"Alice\",), (\"Eve\",)]\n",
        "df = spark.createDataFrame(data, [\"name\"])\n",
        "\n",
        "# Посчитать количество уникальных значений в колонке \"name\"\n",
        "count_result = df.select(countDistinct(\"name\")).show()"
      ]
    },
    {
      "cell_type": "markdown",
      "metadata": {
        "id": "1RVVb3Fmafx5"
      },
      "source": [
        "### Задание 12: Выполнить фильтрацию данных по определенному условию\n"
      ]
    },
    {
      "cell_type": "markdown",
      "metadata": {
        "id": "Zq9d0WFdgrqj"
      },
      "source": [
        "Данный код выполняет следующие действия:\n",
        "\n",
        "1. Импортируем класс `SparkSession` из модуля `pyspark.sql`, который необходим для создания сессии Spark.\n",
        "2. Создаем сессию Spark с именем приложения \"filter_example\".\n",
        "3. Создаем список кортежей `data`, содержащий пары имя-возраст.\n",
        "4. Создаем DataFrame `df` из списка `data`, указывая имена столбцов как \"name\" и \"age\".\n",
        "5. Фильтруем данные в DataFrame `df`, оставляя только те строки, где возраст меньше 30, и выводит результат на экран с помощью метода `show()`.\n",
        "\n",
        "Важно отметить, что метод `filter()` используется для фильтрации строк в DataFrame на основе заданного условия. В данном случае, условием является `df.age < 30`, что означает выборку строк, где значение в столбце \"age\" меньше 30. Результатом выполнения этого кода будет отображение на экране строк DataFrame, соответствующих этому условию."
      ]
    },
    {
      "cell_type": "code",
      "execution_count": 41,
      "metadata": {
        "id": "7SC9wv6nah3i"
      },
      "outputs": [
        {
          "name": "stderr",
          "output_type": "stream",
          "text": [
            "24/07/26 15:08:30 WARN SparkSession: Using an existing Spark session; only runtime SQL configurations will take effect.\n"
          ]
        },
        {
          "name": "stdout",
          "output_type": "stream",
          "text": [
            "+-----+---+\n",
            "| name|age|\n",
            "+-----+---+\n",
            "|Alice| 25|\n",
            "|  Eve| 20|\n",
            "+-----+---+\n",
            "\n"
          ]
        }
      ],
      "source": [
        " # Создание Spark сессии\n",
        "spark = SparkSession.builder.appName(\"filter_example\").getOrCreate()\n",
        "\n",
        "# Создание DataFrame\n",
        "data = [(\"Alice\", 25), (\"Bob\", 30), (\"Eve\", 20), (\"Charlie\", 35)]\n",
        "df = spark.createDataFrame(data, [\"name\", \"age\"])\n",
        "\n",
        "# Выполнить фильтрацию данных по возрасту младше 30\n",
        "filtered_data = df.filter(df.age < 30).show()"
      ]
    },
    {
      "cell_type": "markdown",
      "metadata": {
        "id": "6OAOCIkSamLp"
      },
      "source": [
        "### Домашнее задание\n",
        "\n",
        "### Условие: дана таблица с колонками (id, name, salary, managerId), студентам необходимо написать код на spark, который создаст эту таблицу (данные указаны ниже) и в результате выдаст таблицу в которой будут имена сотрудников, которые зарабатывают больше своих менеджеров.\n",
        "\n",
        "Данные для таблицы:\n"
      ]
    },
    {
      "cell_type": "code",
      "execution_count": 2,
      "metadata": {},
      "outputs": [
        {
          "name": "stdout",
          "output_type": "stream",
          "text": [
            "Collecting PyArrow\n",
            "  Downloading pyarrow-17.0.0-cp312-cp312-manylinux_2_28_x86_64.whl.metadata (3.3 kB)\n",
            "Requirement already satisfied: numpy>=1.16.6 in /home/user77/Desktop/DSprojects/.venv/lib/python3.12/site-packages (from PyArrow) (2.0.1)\n",
            "Downloading pyarrow-17.0.0-cp312-cp312-manylinux_2_28_x86_64.whl (39.9 MB)\n",
            "\u001b[2K   \u001b[90m━━━━━━━━━━━━━━━━━━━━━━━━━━━━━━━━━━━━━━━━\u001b[0m \u001b[32m39.9/39.9 MB\u001b[0m \u001b[31m35.7 MB/s\u001b[0m eta \u001b[36m0:00:00\u001b[0m00:01\u001b[0m00:01\u001b[0m\n",
            "\u001b[?25hInstalling collected packages: PyArrow\n",
            "Successfully installed PyArrow-17.0.0\n",
            "Note: you may need to restart the kernel to use updated packages.\n"
          ]
        }
      ],
      "source": [
        "# %pip install setuptools\n",
        "# %pip install PyArrow"
      ]
    },
    {
      "cell_type": "code",
      "execution_count": 110,
      "metadata": {
        "colab": {
          "base_uri": "https://localhost:8080/",
          "height": 175
        },
        "id": "jU_wRNHbappb",
        "outputId": "4d15740a-47e0-485f-d5eb-28eeda130f66"
      },
      "outputs": [
        {
          "name": "stdout",
          "output_type": "stream",
          "text": [
            "root\n",
            " |-- id: long (nullable = true)\n",
            " |-- Name: string (nullable = true)\n",
            " |-- Salary: string (nullable = true)\n",
            " |-- ManagerId: string (nullable = true)\n",
            "\n",
            "+---+-----+------+---------+\n",
            "| id| Name|Salary|ManagerId|\n",
            "+---+-----+------+---------+\n",
            "|  1|  Joe|    70|        3|\n",
            "|  2|Henry|    80|        4|\n",
            "|  3|  Sam|    60|     Null|\n",
            "|  4|  Max|    90|     Null|\n",
            "|  5|Jenny|   100|        3|\n",
            "+---+-----+------+---------+\n",
            "\n"
          ]
        }
      ],
      "source": [
        "# import pyspark.pandas as ps\n",
        "import pandas as pd\n",
        "import pyspark\n",
        "from pyspark import SparkContext, SparkConf\n",
        "from pyspark.sql import SparkSession\n",
        "from pyspark.sql.functions import sum, avg, when, max, month, year, first_value, col\n",
        "\n",
        "data = {'id': [1, 2, 3, 4, 5], 'Name': ['Joe', 'Henry', 'Sam', 'Max', 'Jenny'],\n",
        "        'Salary':['70', '80', '60', '90', '100'], 'ManagerId':['3', '4', 'Null', 'Null', '3']}\n",
        "df = pd.DataFrame(data)\n",
        "ss = SparkSession.builder.master(\"local[1]\").appName(\"pandas df\").getOrCreate()\n",
        "# spark dataframe\n",
        "sdf = ss.createDataFrame(df)\n",
        "sdf.printSchema()\n",
        "sdf.show()\n",
        "\n"
      ]
    },
    {
      "cell_type": "code",
      "execution_count": 112,
      "metadata": {},
      "outputs": [
        {
          "name": "stdout",
          "output_type": "stream",
          "text": [
            "+-----+------+-------------+-----------+\n",
            "| Name|Salary|ManagerSalary|ManagerName|\n",
            "+-----+------+-------------+-----------+\n",
            "|  Joe|    70|           60|        Sam|\n",
            "|Jenny|   100|           60|        Sam|\n",
            "|Henry|    80|           90|        Max|\n",
            "+-----+------+-------------+-----------+\n",
            "\n",
            "+----+\n",
            "|Name|\n",
            "+----+\n",
            "| Joe|\n",
            "+----+\n",
            "\n"
          ]
        }
      ],
      "source": [
        "sdf1 = sdf.alias(\"a\") \\\n",
        "    .join(sdf.alias(\"b\"), col(\"a.ManagerId\") == col(\"b.id\"), \"inner\")  \\\n",
        "    .select(col(\"a.Name\"), col(\"a.Salary\"), col(\"b.Salary\").alias(\"ManagerSalary\"), col(\"b.Name\").alias(\"ManagerName\"))\n",
        "\n",
        "sdf1.show()\n",
        "\n",
        "\"\"\"  \n",
        "фильтруем таблицу по заданию (Salary сотрудника больше Salary менеджера) и выбираем столбец 'Name'.\n",
        "должны получить таблицу вида:\n",
        "+----+\n",
        "|Name|\n",
        "+----+\n",
        "| Joe|\n",
        "+----+\n",
        "\"\"\"\n",
        "sdf_filtered = sdf1.filter(sdf1[\"Salary\"]>sdf1[\"ManagerSalary\"]).select(\"Name\")\n",
        "sdf_filtered.show()\n"
      ]
    },
    {
      "cell_type": "code",
      "execution_count": 2,
      "metadata": {},
      "outputs": [
        {
          "name": "stdout",
          "output_type": "stream",
          "text": [
            "+-----+\n",
            "| Name|\n",
            "+-----+\n",
            "|  Joe|\n",
            "|Jenny|\n",
            "+-----+\n",
            "\n"
          ]
        }
      ],
      "source": [
        "import pandas as pd\n",
        "from pyspark.sql import SparkSession\n",
        "from pyspark.sql.functions import col\n",
        "\n",
        "data = {'id': [1, 2, 3, 4, 5], 'Name': ['Joe', 'Henry', 'Sam', 'Max', 'Jenny'],\n",
        "        'Salary':['70', '80', '60', '90', '100'], 'ManagerId':['3', '4', 'Null', 'Null', '4']}\n",
        "df = pd.DataFrame(data)\n",
        "ss = SparkSession.builder.master(\"local[1]\").appName(\"pandas df\").getOrCreate()\n",
        "\"\"\" \n",
        "создаем spark dataframe вида:\n",
        "+---+-----+------+---------+\n",
        "| id| Name|Salary|ManagerId|\n",
        "+---+-----+------+---------+\n",
        "|  1|  Joe|    70|        3|\n",
        "|  2|Henry|    80|        4|\n",
        "|  3|  Sam|    60|     Null|\n",
        "|  4|  Max|    90|     Null|\n",
        "+---+-----+------+---------+\n",
        "\n",
        "\"\"\"\n",
        "sdf = ss.createDataFrame(df)\n",
        "sdf = sdf.withColumn(\"Salary\", sdf[\"Salary\"].cast(\"int\"))\n",
        "\n",
        "\"\"\" \n",
        "приводим исходную таблицу к виду:\n",
        "+-----+------+-------------+-----------+\n",
        "| Name|Salary|ManagerSalary|ManagerName|\n",
        "+-----+------+-------------+-----------+\n",
        "|  Joe|    70|           60|        Sam|\n",
        "|Henry|    80|           90|        Max|\n",
        "+-----+------+-------------+-----------+\n",
        "\"\"\"\n",
        "sdf1 = sdf.alias(\"a\") \\\n",
        "    .join(sdf.alias(\"b\"), col(\"a.ManagerId\") == col(\"b.id\"), \"inner\")  \\\n",
        "    .select(col(\"a.Name\"), col(\"a.Salary\"), col(\"b.Salary\").alias(\"ManagerSalary\"), col(\"b.Name\").alias(\"ManagerName\"))\n",
        "\n",
        "\"\"\"  \n",
        "фильтруем таблицу по заданию (Salary сотрудника больше Salary менеджера) и выбираем столбец 'Name'.\n",
        "должны получить таблицу вида:\n",
        "+----+\n",
        "|Name|\n",
        "+----+\n",
        "| Joe|\n",
        "+----+\n",
        "\"\"\"\n",
        "sdf_filtered = sdf1.filter(sdf1[\"Salary\"]>sdf1[\"ManagerSalary\"]).select(\"Name\")\n",
        "sdf_filtered.show()\n"
      ]
    },
    {
      "cell_type": "markdown",
      "metadata": {
        "id": "kI8uR6Xpb7XI"
      },
      "source": [
        "Результат должен быть:\n",
        "Joe (табличка с одной строкой и одним столбцом со значением Joe)\n"
      ]
    },
    {
      "cell_type": "code",
      "execution_count": null,
      "metadata": {
        "id": "2n8ZkW6pIOx4"
      },
      "outputs": [],
      "source": [
        "from pyspark.sql import SparkSession\n",
        "from pyspark.sql.window import Window\n",
        "from pyspark.sql.functions import avg\n",
        "\n",
        "spark = SparkSession.builder.appName(\"WindowFunctionExample\").getOrCreate()\n",
        "\n",
        "# Создание DataFrame\n",
        "data = [(\"A\", 1), (\"A\", 2), (\"A\", 3), (\"B\", 4), (\"B\", 5), (\"B\", 6)]\n",
        "df = spark.createDataFrame(data, [\"Group\", \"Value\"])\n",
        "\n",
        "# Определение окна для каждой группы\n",
        "windowSpec = Window.partitionBy(\"Group\").orderBy(\"Value\")\n",
        "\n",
        "# Вычисление скользящего среднего\n",
        "df = df.withColumn(\"MovingAverage\", avg(\"Value\").over(windowSpec.rowsBetween(-2, 0)))\n",
        "\n",
        "df.show()\n"
      ]
    },
    {
      "cell_type": "markdown",
      "metadata": {
        "id": "Aj84Ic1fI1Sz"
      },
      "source": [
        "1/ Ранжирующие\n",
        "row_number\n",
        "rank\n",
        "percent_rank\n",
        "dense_rank\n",
        "ntile\n",
        "\n",
        "2/ Аналитические\n",
        "lag\n",
        "lead\n",
        "cume_dist\n",
        "nth_value\n",
        "\n",
        "3/ Аггрегирущие\n",
        "min\n",
        "max\n",
        "count\n",
        "std\n"
      ]
    },
    {
      "cell_type": "code",
      "execution_count": null,
      "metadata": {
        "id": "6lMihD1mL9uo"
      },
      "outputs": [],
      "source": [
        "from pyspark.sql.window import Window\n",
        "from pyspark.sql.functions import cume_dist\n",
        "\n",
        "# Определение спецификации окна\n",
        "windowSpec = Window.partitionBy(\"course\").orderBy(\"income\")\n",
        "\n",
        "# Применение оконной функции cume_dist к DataFrame\n",
        "df1.withColumn(\"cume_dist\", cume_dist().over(windowSpec)).show()\n"
      ]
    },
    {
      "cell_type": "markdown",
      "metadata": {
        "id": "KJAtts-JMRc7"
      },
      "source": [
        "1. PartitionBy()\n",
        "2. OrderBy()\n",
        "3. rowsBetweens(start, end)\n",
        "4. rangeBetwen(start, end)\n",
        "\n",
        "Window.unbdoudedPreceding, Window.unboudedFolliwing, Window.currentRow"
      ]
    },
    {
      "cell_type": "code",
      "execution_count": null,
      "metadata": {
        "id": "31PtOnIKNKT1"
      },
      "outputs": [],
      "source": [
        "from pyspark.sql.window import Window\n",
        "\n",
        "# Определение окна с разделением на партиции по столбцу \"country\" и сортировкой по столбцу \"date\"\n",
        "window = Window.partitionBy(\"country\").orderBy(\"date\")\n",
        "\n",
        "# Определение окна с границами, охватывающими строки от начала до текущей строки\n",
        "window = Window.orderBy(\"date\").rowsBetween(Window.unboundedPreceding, Window.currentRow)\n",
        "\n",
        "# Определение окна с границами, охватывающими строки от 3 строк до текущей строки\n",
        "window = Window.orderBy(\"date\").rowsBetween(-3, Window.currentRow)\n",
        "\n",
        "# Определение окна с границами, охватывающими строки от 3 строк до 3 строк после текущей строки\n",
        "window = Window.orderBy(\"date\").rowsBetween(-3, 3)\n"
      ]
    },
    {
      "cell_type": "markdown",
      "metadata": {
        "id": "LMIGEMt-N0c8"
      },
      "source": [
        "1. Гибкость в анализе данных\n",
        "2. Сохранение идентичности иходнызх данных\n",
        "3. Поддержка сложных аналитических запросов\n",
        "4. Оптимизация по производительности\n",
        "5. Поддержка различых типов окон"
      ]
    },
    {
      "cell_type": "code",
      "execution_count": null,
      "metadata": {
        "id": "SiWlO2DtPkOR"
      },
      "outputs": [],
      "source": [
        "from pyspark.sql.window import Window\n",
        "from pyspark.sql.functions import avg\n",
        "\n",
        "# Определение окна с разделением на партиции по столбцу \"department\" и сортировкой по столбцу \"salary\"\n",
        "windowSpec = Window.partitionBy(\"department\").orderBy(\"salary\")\n",
        "\n",
        "# Применение оконной функции avg с использованием rowsBetween\n",
        "df.withColumn(\"avg_salary\", avg(\"salary\").over(windowSpec.rowsBetween(Window.unboundedPreceding, Window.currentRow)))\n",
        "\n",
        "# Применение оконной функции avg с использованием rangeBetween\n",
        "df.withColumn(\"avg_salary_range\", avg(\"salary\").over(windowSpec.rangeBetween(Window.unboundedPreceding, 1000)))"
      ]
    },
    {
      "cell_type": "markdown",
      "metadata": {
        "id": "G7YUA0gMQHJ5"
      },
      "source": [
        "rowsBetween(Window.currentRow, 1)\n",
        "\n",
        "rangeBetween(Window.currentRow, 1)"
      ]
    },
    {
      "cell_type": "code",
      "execution_count": null,
      "metadata": {
        "id": "pleLLuQBQVl9"
      },
      "outputs": [],
      "source": [
        "from pyspark.sql import Window\n",
        "from pyspark.sql import functions as func\n",
        "\n",
        "# Определение окна с использованием rowsBetween\n",
        "window1 = Window.partitionBy(\"category\").orderBy(\"id\").rowsBetween(Window.currentRow, 1)\n",
        "\n",
        "# Определение окна с использованием rangeBetween\n",
        "window2 = Window.partitionBy(\"category\").orderBy(\"id\").rangeBetween(Window.currentRow, 1)\n",
        "\n",
        "# Применение оконных функций к DataFrame\n",
        "df.withColumn(\"sum_rows\", func.sum(\"id\").over(window1)) \\\n",
        " .withColumn(\"sum_range\", func.sum(\"id\").over(window2)) \\\n",
        " .show()"
      ]
    },
    {
      "cell_type": "code",
      "execution_count": 3,
      "metadata": {
        "id": "-N5fselnRpms"
      },
      "outputs": [],
      "source": [
        "%pip install pyspark >> None"
      ]
    },
    {
      "cell_type": "code",
      "execution_count": 100,
      "metadata": {
        "colab": {
          "base_uri": "https://localhost:8080/",
          "height": 193
        },
        "id": "fCixNnaAQm7t",
        "outputId": "f5421744-4dbd-4c0b-8036-e68997cf8010"
      },
      "outputs": [
        {
          "ename": "AttributeError",
          "evalue": "module 'pyspark' has no attribute 'createDataFrame'",
          "output_type": "error",
          "traceback": [
            "\u001b[0;31m---------------------------------------------------------------------------\u001b[0m",
            "\u001b[0;31mAttributeError\u001b[0m                            Traceback (most recent call last)",
            "Cell \u001b[0;32mIn[100], line 13\u001b[0m\n\u001b[1;32m     10\u001b[0m add_one_udf \u001b[38;5;241m=\u001b[39m udf(add_one, IntegerType())\n\u001b[1;32m     12\u001b[0m \u001b[38;5;66;03m# Использование UDF в DataFrame\u001b[39;00m\n\u001b[0;32m---> 13\u001b[0m df \u001b[38;5;241m=\u001b[39m \u001b[43mpyspark\u001b[49m\u001b[38;5;241;43m.\u001b[39;49m\u001b[43mcreateDataFrame\u001b[49m([(\u001b[38;5;241m1\u001b[39m,), (\u001b[38;5;241m2\u001b[39m,), (\u001b[38;5;241m3\u001b[39m,)], [\u001b[38;5;124m\"\u001b[39m\u001b[38;5;124mvalue\u001b[39m\u001b[38;5;124m\"\u001b[39m])\n\u001b[1;32m     14\u001b[0m df\u001b[38;5;241m.\u001b[39mwithColumn(\u001b[38;5;124m\"\u001b[39m\u001b[38;5;124mvalue_plus_one\u001b[39m\u001b[38;5;124m\"\u001b[39m, add_one_udf(df[\u001b[38;5;124m\"\u001b[39m\u001b[38;5;124mvalue\u001b[39m\u001b[38;5;124m\"\u001b[39m]))\u001b[38;5;241m.\u001b[39mshow()\n",
            "\u001b[0;31mAttributeError\u001b[0m: module 'pyspark' has no attribute 'createDataFrame'"
          ]
        }
      ],
      "source": [
        "import pyspark\n",
        "from pyspark.sql.functions import udf\n",
        "from pyspark.sql.types import IntegerType\n",
        "\n",
        "# Определение пользовательской функции\n",
        "def add_one(x):\n",
        "    return x + 1\n",
        "\n",
        "# Преобразование функции в UDF\n",
        "add_one_udf = udf(add_one, IntegerType())\n",
        "\n",
        "# Использование UDF в DataFrame\n",
        "df = pyspark.createDataFrame([(1,), (2,), (3,)], [\"value\"])\n",
        "df.withColumn(\"value_plus_one\", add_one_udf(df[\"value\"])).show()"
      ]
    },
    {
      "cell_type": "markdown",
      "metadata": {
        "id": "9lMKrioXRNcj"
      },
      "source": [
        "1. IntergerType\n",
        "2. DoubleType\n",
        "3. StringType\n",
        "4. BooleanType\n",
        "5. ArrayType\n",
        "6. MapType\n",
        "7. StructType"
      ]
    },
    {
      "cell_type": "markdown",
      "metadata": {
        "id": "QPe5JIquSOMt"
      },
      "source": [
        "1. udf\n",
        "2. registrUDF\n",
        "3. unregistUDF"
      ]
    },
    {
      "cell_type": "code",
      "execution_count": 99,
      "metadata": {
        "id": "P1JhaDHbSlO4"
      },
      "outputs": [
        {
          "ename": "NameError",
          "evalue": "name 'spark' is not defined",
          "output_type": "error",
          "traceback": [
            "\u001b[0;31m---------------------------------------------------------------------------\u001b[0m",
            "\u001b[0;31mNameError\u001b[0m                                 Traceback (most recent call last)",
            "Cell \u001b[0;32mIn[99], line 12\u001b[0m\n\u001b[1;32m      9\u001b[0m add_one_udf \u001b[38;5;241m=\u001b[39m udf(add_one, IntegerType())\n\u001b[1;32m     11\u001b[0m \u001b[38;5;66;03m# Использование UDF в DataFrame\u001b[39;00m\n\u001b[0;32m---> 12\u001b[0m df \u001b[38;5;241m=\u001b[39m \u001b[43mspark\u001b[49m\u001b[38;5;241m.\u001b[39mcreateDataFrame([(\u001b[38;5;241m1\u001b[39m,), (\u001b[38;5;241m2\u001b[39m,), (\u001b[38;5;241m3\u001b[39m,)], [\u001b[38;5;124m\"\u001b[39m\u001b[38;5;124mvalue\u001b[39m\u001b[38;5;124m\"\u001b[39m])\n\u001b[1;32m     13\u001b[0m df\u001b[38;5;241m.\u001b[39mwithColumn(\u001b[38;5;124m\"\u001b[39m\u001b[38;5;124mvalue_plus_one\u001b[39m\u001b[38;5;124m\"\u001b[39m, add_one_udf(df[\u001b[38;5;124m\"\u001b[39m\u001b[38;5;124mvalue\u001b[39m\u001b[38;5;124m\"\u001b[39m]))\u001b[38;5;241m.\u001b[39mshow()\n",
            "\u001b[0;31mNameError\u001b[0m: name 'spark' is not defined"
          ]
        }
      ],
      "source": [
        "from pyspark.sql.functions import udf\n",
        "from pyspark.sql.types import IntegerType\n",
        "\n",
        "# Определение пользовательской функции\n",
        "def add_one(x):\n",
        "    return x + 1\n",
        "\n",
        "# Преобразование функции в UDF\n",
        "add_one_udf = udf(add_one, IntegerType())\n",
        "\n",
        "# Использование UDF в DataFrame\n",
        "df = spark.createDataFrame([(1,), (2,), (3,)], [\"value\"])\n",
        "df.withColumn(\"value_plus_one\", add_one_udf(df[\"value\"])).show()"
      ]
    }
  ],
  "metadata": {
    "colab": {
      "provenance": [],
      "toc_visible": true
    },
    "kernelspec": {
      "display_name": "Python 3",
      "name": "python3"
    },
    "language_info": {
      "codemirror_mode": {
        "name": "ipython",
        "version": 3
      },
      "file_extension": ".py",
      "mimetype": "text/x-python",
      "name": "python",
      "nbconvert_exporter": "python",
      "pygments_lexer": "ipython3",
      "version": "3.12.3"
    }
  },
  "nbformat": 4,
  "nbformat_minor": 0
}
