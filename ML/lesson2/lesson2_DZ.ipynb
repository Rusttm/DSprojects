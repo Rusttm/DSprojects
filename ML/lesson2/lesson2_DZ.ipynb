{
 "cells": [
  {
   "cell_type": "markdown",
   "metadata": {},
   "source": [
    "Пусть у нас имеется некоторый набор данных sales.csv о продажах квартир.\n",
    "— цена продажи (SalePrice, зависимая переменная),\n",
    "— наземная жилая зона (GrLivArea),\n",
    "— общее качество (Overall Quality),\n",
    "— территория гаража (GarageArea),\n",
    "— условия сделки (SaleCondition).\n",
    "Реализуйте построение модели линейной регрессии на этих данных. Проверьте качество модели на обучающей и тестовой выборках с помощью MAE, MSE."
   ]
  },
  {
   "cell_type": "code",
   "execution_count": null,
   "metadata": {
    "vscode": {
     "languageId": "plaintext"
    }
   },
   "outputs": [],
   "source": []
  }
 ],
 "metadata": {
  "language_info": {
   "name": "python"
  }
 },
 "nbformat": 4,
 "nbformat_minor": 2
}
