{
 "cells": [
  {
   "cell_type": "markdown",
   "metadata": {
    "vscode": {
     "languageId": "plaintext"
    }
   },
   "source": [
    "Вам дан набор данных с фактическими значениями целевой переменной и предсказанными значениями:\n",
    "\n",
    "Фактические значения\n",
    "\n",
    "\n",
    "actual_values = np.array([100, 150, 200, 250])\n",
    "\n",
    "Предсказанные значения\n",
    "\n",
    "\n",
    "predicted_values = np.array([90, 140, 180, 270])\n",
    "\n",
    "Задача студентов состоит в расчете среднеквадратичной ошибки (MSE) и средней абсолютной ошибки (MAE) для данного набора данных без использования модели. Студенты должны использовать правильные значения фактической переменной и предсказанные значения для расчета функций потерь. Они также должны проанализировать результаты и объяснить, какие значения функции потерь указывают на лучшую точность предсказания.\n"
   ]
  },
  {
   "cell_type": "code",
   "execution_count": 2,
   "metadata": {},
   "outputs": [],
   "source": [
    "import numpy as np"
   ]
  },
  {
   "cell_type": "code",
   "execution_count": 3,
   "metadata": {},
   "outputs": [],
   "source": [
    "actual_values = np.array([100, 150, 200, 250])\n",
    "predicted_values = np.array([90, 140, 180, 270])"
   ]
  },
  {
   "cell_type": "code",
   "execution_count": null,
   "metadata": {},
   "outputs": [],
   "source": []
  }
 ],
 "metadata": {
  "kernelspec": {
   "display_name": ".venv",
   "language": "python",
   "name": "python3"
  },
  "language_info": {
   "codemirror_mode": {
    "name": "ipython",
    "version": 3
   },
   "file_extension": ".py",
   "mimetype": "text/x-python",
   "name": "python",
   "nbconvert_exporter": "python",
   "pygments_lexer": "ipython3",
   "version": "3.10.12"
  }
 },
 "nbformat": 4,
 "nbformat_minor": 2
}
